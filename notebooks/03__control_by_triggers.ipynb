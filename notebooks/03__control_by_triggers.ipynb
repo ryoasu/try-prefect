{
 "cells": [
  {
   "cell_type": "markdown",
   "source": [
    "# Triggerによる制御\n",
    "Triggerによる実行タスクの制御について試す。\n",
    "\n",
    "タスクを定義する際に、そのタスクが実行されるための条件を設定することができる。これをTriggerという。\n",
    "\n",
    "Triggerを設定したタスクのupstream taskの状態(e.g. 成功した / 失敗した)に応じて実行を判断する。\n",
    "\n",
    "例えば、あるタスクAに `all_successful` というTriggerを設定(`@task(trigger=all_successful)`)したとする。タスクAのupstream taskとしてタスクBとタスクCを設定した場合、タスクAが実行されるのはタスクBとタスクCが成功した時のみである。(つまり、タスクBかタスクCのどちらかが失敗したらタスクAは実行されない)"
   ],
   "metadata": {}
  },
  {
   "cell_type": "code",
   "execution_count": 1,
   "source": [
    "## needs import\n",
    "from prefect import task, Flow\n",
    "from prefect.triggers import all_successful, all_failed, any_successful, any_failed, some_successful, some_failed, all_finished, manual_only, not_all_skipped\n",
    "from prefect.engine.signals import SKIP"
   ],
   "outputs": [],
   "metadata": {}
  },
  {
   "cell_type": "markdown",
   "source": [
    "## タスクの成功・失敗によるTrigger\n",
    "- all_successful: 全てのupstream taskが成功した場合に実行される (Triggerを何も指定しない場合、defaultでこれが指定される)\n",
    "- all_failed: 全てのupstream taskが失敗した場合に実行される\n",
    "- any_successful: 一つでもupstream taskが成功した場合に実行される\n",
    "- any_failed: 一つでもupstream taskが失敗した場合に実行される\n",
    "- some_successful: 成功したupstream taskの数が指定した上限・下限内であれば実行される\n",
    "- some_failed: 成功したupstream taskの数が指定した上限・下限内であれば実行される"
   ],
   "metadata": {}
  },
  {
   "cell_type": "code",
   "execution_count": 2,
   "source": [
    "# タスクの定義\n",
    "@task\n",
    "def successful_task():\n",
    "    pass\n",
    "\n",
    "@task\n",
    "def failed_task():\n",
    "    raise Exception(\"failed_1\")\n",
    "\n",
    "# upstream tasksに設定されたタスクが「全て成功」した場合に実行されるタスク\n",
    "@task(trigger=all_successful)\n",
    "def all_successful_task():\n",
    "    print(\"⭕️ task: all_successful_task\")\n",
    "\n",
    "# upstream tasksに設定されたタスクが「全て失敗」した場合に実行されるタスク\n",
    "@task(trigger=all_failed)\n",
    "def all_failed_task():\n",
    "    print(\"❌ task: all_failed_task\")\n",
    "\n",
    "# upstream tasksに設定されたタスクが「一つでも成功」した場合に実行されるタスク\n",
    "@task(trigger=any_successful)\n",
    "def any_successful_task():\n",
    "    print(\"⭕️　task: any_successful_task\")\n",
    "\n",
    "# upstream tasksに設定されたタスクが「一つでも失敗」した場合に実行されるタスク\n",
    "@task(trigger=any_failed)\n",
    "def any_failed_task():\n",
    "    print(\"❌　task: any_failed_task\")\n",
    "\n",
    "# upstream tasksに設定されたタスクの「成功数が指定した上限(2以下)・下限(1以上)内」である場合に実行されるタスク\n",
    "@task(trigger=some_successful(at_least=1, at_most=2))\n",
    "def some_successful_task():\n",
    "    print(\"⭕️　task: some_successful_task\")\n",
    "\n",
    "# upstream tasksに設定されたタスクの「失敗数が指定した上限(2以下)・下限(1以上)内」である場合に実行されるタスク\n",
    "@task(trigger=some_failed(at_least=1, at_most=2))\n",
    "def some_failed_task():\n",
    "    print(\"❌　task: some_failed_task\")"
   ],
   "outputs": [],
   "metadata": {}
  },
  {
   "cell_type": "code",
   "execution_count": 3,
   "source": [
    "# 全てのupstream taskが成功する場合のFlow\n",
    "with Flow(\"all_successful\") as flow_all_successful:\n",
    "    s1 = successful_task()\n",
    "    s2 = successful_task()\n",
    "    s3 = successful_task()\n",
    "    upstream_tasks = [s1, s2, s3]\n",
    "    all_s = all_successful_task(upstream_tasks=upstream_tasks)\n",
    "    all_f = all_failed_task(upstream_tasks=upstream_tasks)\n",
    "    any_s = any_successful_task(upstream_tasks=upstream_tasks)\n",
    "    any_f = any_failed_task(upstream_tasks=upstream_tasks)\n",
    "    some_s = some_successful_task(upstream_tasks=upstream_tasks)\n",
    "    some_f = some_failed_task(upstream_tasks=upstream_tasks)\n",
    "\n",
    "print(\"🏃‍♂️💨💨💨💨💨💨💨💨 RUN: flow_all_successful\")\n",
    "flow_all_successful_state = flow_all_successful.run()\n",
    "flow_all_successful.visualize(flow_state=flow_all_successful_state)"
   ],
   "outputs": [
    {
     "output_type": "stream",
     "name": "stdout",
     "text": [
      "🏃‍♂️💨💨💨💨💨💨💨💨 RUN: flow_all_successful\n",
      "[2021-09-18 19:19:46+0900] INFO - prefect.FlowRunner | Beginning Flow run for 'all_successful'\n",
      "[2021-09-18 19:19:46+0900] INFO - prefect.TaskRunner | Task 'successful_task': Starting task run...\n",
      "[2021-09-18 19:19:46+0900] INFO - prefect.TaskRunner | Task 'successful_task': Finished task run for task with final state: 'Success'\n",
      "[2021-09-18 19:19:46+0900] INFO - prefect.TaskRunner | Task 'successful_task': Starting task run...\n",
      "[2021-09-18 19:19:46+0900] INFO - prefect.TaskRunner | Task 'successful_task': Finished task run for task with final state: 'Success'\n",
      "[2021-09-18 19:19:46+0900] INFO - prefect.TaskRunner | Task 'successful_task': Starting task run...\n",
      "[2021-09-18 19:19:46+0900] INFO - prefect.TaskRunner | Task 'successful_task': Finished task run for task with final state: 'Success'\n",
      "[2021-09-18 19:19:46+0900] INFO - prefect.TaskRunner | Task 'any_failed_task': Starting task run...\n",
      "[2021-09-18 19:19:46+0900] INFO - prefect.TaskRunner | Task 'any_failed_task': Finished task run for task with final state: 'TriggerFailed'\n",
      "[2021-09-18 19:19:46+0900] INFO - prefect.TaskRunner | Task 'some_failed_task': Starting task run...\n",
      "[2021-09-18 19:19:46+0900] INFO - prefect.TaskRunner | Task 'some_failed_task': Finished task run for task with final state: 'TriggerFailed'\n",
      "[2021-09-18 19:19:46+0900] INFO - prefect.TaskRunner | Task 'all_successful_task': Starting task run...\n",
      "⭕️ task: all_successful_task\n",
      "[2021-09-18 19:19:46+0900] INFO - prefect.TaskRunner | Task 'all_successful_task': Finished task run for task with final state: 'Success'\n",
      "[2021-09-18 19:19:46+0900] INFO - prefect.TaskRunner | Task 'all_failed_task': Starting task run...\n",
      "[2021-09-18 19:19:46+0900] INFO - prefect.TaskRunner | Task 'all_failed_task': Finished task run for task with final state: 'TriggerFailed'\n",
      "[2021-09-18 19:19:46+0900] INFO - prefect.TaskRunner | Task 'any_successful_task': Starting task run...\n",
      "⭕️　task: any_successful_task\n",
      "[2021-09-18 19:19:46+0900] INFO - prefect.TaskRunner | Task 'any_successful_task': Finished task run for task with final state: 'Success'\n",
      "[2021-09-18 19:19:46+0900] INFO - prefect.TaskRunner | Task 'some_successful_task': Starting task run...\n",
      "[2021-09-18 19:19:46+0900] INFO - prefect.TaskRunner | Task 'some_successful_task': Finished task run for task with final state: 'TriggerFailed'\n",
      "[2021-09-18 19:19:46+0900] INFO - prefect.FlowRunner | Flow run FAILED: some reference tasks failed.\n"
     ]
    },
    {
     "output_type": "execute_result",
     "data": {
      "text/plain": [
       "<graphviz.dot.Digraph at 0x1113f48e0>"
      ],
      "image/svg+xml": "<?xml version=\"1.0\" encoding=\"UTF-8\" standalone=\"no\"?>\n<!DOCTYPE svg PUBLIC \"-//W3C//DTD SVG 1.1//EN\"\n \"http://www.w3.org/Graphics/SVG/1.1/DTD/svg11.dtd\">\n<!-- Generated by graphviz version 2.49.0 (20210828.1703)\n -->\n<!-- Pages: 1 -->\n<svg width=\"1025pt\" height=\"116pt\"\n viewBox=\"0.00 0.00 1025.34 116.00\" xmlns=\"http://www.w3.org/2000/svg\" xmlns:xlink=\"http://www.w3.org/1999/xlink\">\n<g id=\"graph0\" class=\"graph\" transform=\"scale(1 1) rotate(0) translate(4 112)\">\n<polygon fill=\"white\" stroke=\"transparent\" points=\"-4,4 -4,-112 1021.34,-112 1021.34,4 -4,4\"/>\n<!-- 4584327488 -->\n<g id=\"node1\" class=\"node\">\n<title>4584327488</title>\n<ellipse fill=\"#28a745\" fill-opacity=\"0.501961\" stroke=\"#28a745\" stroke-opacity=\"0.501961\" cx=\"356.24\" cy=\"-90\" rx=\"67.69\" ry=\"18\"/>\n<text text-anchor=\"middle\" x=\"356.24\" y=\"-86.3\" font-family=\"Times,serif\" font-size=\"14.00\">successful_task</text>\n</g>\n<!-- 4584325664 -->\n<g id=\"node3\" class=\"node\">\n<title>4584325664</title>\n<ellipse fill=\"#28a745\" fill-opacity=\"0.501961\" stroke=\"#28a745\" stroke-opacity=\"0.501961\" cx=\"81.24\" cy=\"-18\" rx=\"81.49\" ry=\"18\"/>\n<text text-anchor=\"middle\" x=\"81.24\" y=\"-14.3\" font-family=\"Times,serif\" font-size=\"14.00\">all_successful_task</text>\n</g>\n<!-- 4584327488&#45;&gt;4584325664 -->\n<g id=\"edge9\" class=\"edge\">\n<title>4584327488&#45;&gt;4584325664</title>\n<path fill=\"none\" stroke=\"black\" d=\"M309.28,-77.05C263.26,-65.33 192.88,-47.42 142.49,-34.59\"/>\n<polygon fill=\"black\" stroke=\"black\" points=\"143.24,-31.17 132.69,-32.09 141.51,-37.95 143.24,-31.17\"/>\n</g>\n<!-- 4584326528 -->\n<g id=\"node4\" class=\"node\">\n<title>4584326528</title>\n<ellipse fill=\"#ff5131\" fill-opacity=\"0.501961\" stroke=\"#ff5131\" stroke-opacity=\"0.501961\" cx=\"245.24\" cy=\"-18\" rx=\"64.19\" ry=\"18\"/>\n<text text-anchor=\"middle\" x=\"245.24\" y=\"-14.3\" font-family=\"Times,serif\" font-size=\"14.00\">all_failed_task</text>\n</g>\n<!-- 4584327488&#45;&gt;4584326528 -->\n<g id=\"edge2\" class=\"edge\">\n<title>4584327488&#45;&gt;4584326528</title>\n<path fill=\"none\" stroke=\"black\" d=\"M331.06,-73.12C315.73,-63.45 295.95,-50.98 279.25,-40.44\"/>\n<polygon fill=\"black\" stroke=\"black\" points=\"280.66,-37.19 270.33,-34.82 276.92,-43.12 280.66,-37.19\"/>\n</g>\n<!-- 4584324544 -->\n<g id=\"node5\" class=\"node\">\n<title>4584324544</title>\n<ellipse fill=\"#28a745\" fill-opacity=\"0.501961\" stroke=\"#28a745\" stroke-opacity=\"0.501961\" cx=\"412.24\" cy=\"-18\" rx=\"85.29\" ry=\"18\"/>\n<text text-anchor=\"middle\" x=\"412.24\" y=\"-14.3\" font-family=\"Times,serif\" font-size=\"14.00\">any_successful_task</text>\n</g>\n<!-- 4584327488&#45;&gt;4584324544 -->\n<g id=\"edge15\" class=\"edge\">\n<title>4584327488&#45;&gt;4584324544</title>\n<path fill=\"none\" stroke=\"black\" d=\"M369.8,-72.05C376.61,-63.54 384.99,-53.07 392.5,-43.68\"/>\n<polygon fill=\"black\" stroke=\"black\" points=\"395.3,-45.78 398.81,-35.79 389.83,-41.41 395.3,-45.78\"/>\n</g>\n<!-- 4584465504 -->\n<g id=\"node6\" class=\"node\">\n<title>4584465504</title>\n<ellipse fill=\"#ff5131\" fill-opacity=\"0.501961\" stroke=\"#ff5131\" stroke-opacity=\"0.501961\" cx=\"606.24\" cy=\"-18\" rx=\"90.98\" ry=\"18\"/>\n<text text-anchor=\"middle\" x=\"606.24\" y=\"-14.3\" font-family=\"Times,serif\" font-size=\"14.00\">some_successful_task</text>\n</g>\n<!-- 4584327488&#45;&gt;4584465504 -->\n<g id=\"edge14\" class=\"edge\">\n<title>4584327488&#45;&gt;4584465504</title>\n<path fill=\"none\" stroke=\"black\" d=\"M400.94,-76.49C441.42,-65.15 501.37,-48.36 546.06,-35.85\"/>\n<polygon fill=\"black\" stroke=\"black\" points=\"547.23,-39.16 555.92,-33.09 545.35,-32.42 547.23,-39.16\"/>\n</g>\n<!-- 4584464496 -->\n<g id=\"node8\" class=\"node\">\n<title>4584464496</title>\n<ellipse fill=\"#ff5131\" fill-opacity=\"0.501961\" stroke=\"#ff5131\" stroke-opacity=\"0.501961\" cx=\"783.24\" cy=\"-18\" rx=\"68.49\" ry=\"18\"/>\n<text text-anchor=\"middle\" x=\"783.24\" y=\"-14.3\" font-family=\"Times,serif\" font-size=\"14.00\">any_failed_task</text>\n</g>\n<!-- 4584327488&#45;&gt;4584464496 -->\n<g id=\"edge5\" class=\"edge\">\n<title>4584327488&#45;&gt;4584464496</title>\n<path fill=\"none\" stroke=\"black\" d=\"M404.76,-77.47C413.87,-75.5 423.32,-73.58 432.24,-72 553.18,-50.57 585.27,-57.26 706.24,-36 712.03,-34.98 718.04,-33.83 724.04,-32.61\"/>\n<polygon fill=\"black\" stroke=\"black\" points=\"725,-35.99 734.08,-30.52 723.57,-29.13 725,-35.99\"/>\n</g>\n<!-- 4584466512 -->\n<g id=\"node9\" class=\"node\">\n<title>4584466512</title>\n<ellipse fill=\"#ff5131\" fill-opacity=\"0.501961\" stroke=\"#ff5131\" stroke-opacity=\"0.501961\" cx=\"943.24\" cy=\"-18\" rx=\"74.19\" ry=\"18\"/>\n<text text-anchor=\"middle\" x=\"943.24\" y=\"-14.3\" font-family=\"Times,serif\" font-size=\"14.00\">some_failed_task</text>\n</g>\n<!-- 4584327488&#45;&gt;4584466512 -->\n<g id=\"edge18\" class=\"edge\">\n<title>4584327488&#45;&gt;4584466512</title>\n<path fill=\"none\" stroke=\"black\" d=\"M404.3,-77.21C413.53,-75.24 423.15,-73.39 432.24,-72 620.94,-43.1 671.3,-63.2 860.24,-36 866.89,-35.04 873.82,-33.89 880.7,-32.63\"/>\n<polygon fill=\"black\" stroke=\"black\" points=\"881.54,-36.03 890.72,-30.73 880.24,-29.15 881.54,-36.03\"/>\n</g>\n<!-- 4584327968 -->\n<g id=\"node2\" class=\"node\">\n<title>4584327968</title>\n<ellipse fill=\"#28a745\" fill-opacity=\"0.501961\" stroke=\"#28a745\" stroke-opacity=\"0.501961\" cx=\"509.24\" cy=\"-90\" rx=\"67.69\" ry=\"18\"/>\n<text text-anchor=\"middle\" x=\"509.24\" y=\"-86.3\" font-family=\"Times,serif\" font-size=\"14.00\">successful_task</text>\n</g>\n<!-- 4584327968&#45;&gt;4584325664 -->\n<g id=\"edge13\" class=\"edge\">\n<title>4584327968&#45;&gt;4584325664</title>\n<path fill=\"none\" stroke=\"black\" d=\"M460.3,-77.43C451.33,-75.48 442.02,-73.58 433.24,-72 318.01,-51.2 287.83,-54.76 172.24,-36 165.15,-34.85 157.77,-33.58 150.4,-32.28\"/>\n<polygon fill=\"black\" stroke=\"black\" points=\"150.86,-28.8 140.4,-30.47 149.62,-35.69 150.86,-28.8\"/>\n</g>\n<!-- 4584327968&#45;&gt;4584326528 -->\n<g id=\"edge17\" class=\"edge\">\n<title>4584327968&#45;&gt;4584326528</title>\n<path fill=\"none\" stroke=\"black\" d=\"M463.26,-76.81C417.88,-64.78 348.49,-46.38 300.22,-33.58\"/>\n<polygon fill=\"black\" stroke=\"black\" points=\"300.82,-30.12 290.26,-30.94 299.03,-36.88 300.82,-30.12\"/>\n</g>\n<!-- 4584327968&#45;&gt;4584324544 -->\n<g id=\"edge12\" class=\"edge\">\n<title>4584327968&#45;&gt;4584324544</title>\n<path fill=\"none\" stroke=\"black\" d=\"M486.75,-72.76C473.86,-63.47 457.5,-51.66 443.39,-41.48\"/>\n<polygon fill=\"black\" stroke=\"black\" points=\"445.11,-38.4 434.95,-35.39 441.02,-44.08 445.11,-38.4\"/>\n</g>\n<!-- 4584327968&#45;&gt;4584465504 -->\n<g id=\"edge10\" class=\"edge\">\n<title>4584327968&#45;&gt;4584465504</title>\n<path fill=\"none\" stroke=\"black\" d=\"M531.74,-72.76C544.53,-63.53 560.75,-51.83 574.79,-41.7\"/>\n<polygon fill=\"black\" stroke=\"black\" points=\"577.13,-44.32 583.19,-35.63 573.04,-38.65 577.13,-44.32\"/>\n</g>\n<!-- 4584327968&#45;&gt;4584464496 -->\n<g id=\"edge1\" class=\"edge\">\n<title>4584327968&#45;&gt;4584464496</title>\n<path fill=\"none\" stroke=\"black\" d=\"M556.35,-76.97C603.4,-64.95 675.77,-46.46 726.08,-33.6\"/>\n<polygon fill=\"black\" stroke=\"black\" points=\"727.02,-36.98 735.84,-31.11 725.28,-30.19 727.02,-36.98\"/>\n</g>\n<!-- 4584327968&#45;&gt;4584466512 -->\n<g id=\"edge3\" class=\"edge\">\n<title>4584327968&#45;&gt;4584466512</title>\n<path fill=\"none\" stroke=\"black\" d=\"M557.76,-77.46C566.87,-75.49 576.32,-73.58 585.24,-72 706.62,-50.52 738.67,-56.38 860.24,-36 866.53,-34.95 873.06,-33.76 879.58,-32.52\"/>\n<polygon fill=\"black\" stroke=\"black\" points=\"880.62,-35.89 889.77,-30.54 879.29,-29.01 880.62,-35.89\"/>\n</g>\n<!-- 4584325328 -->\n<g id=\"node7\" class=\"node\">\n<title>4584325328</title>\n<ellipse fill=\"#28a745\" fill-opacity=\"0.501961\" stroke=\"#28a745\" stroke-opacity=\"0.501961\" cx=\"662.24\" cy=\"-90\" rx=\"67.69\" ry=\"18\"/>\n<text text-anchor=\"middle\" x=\"662.24\" y=\"-86.3\" font-family=\"Times,serif\" font-size=\"14.00\">successful_task</text>\n</g>\n<!-- 4584325328&#45;&gt;4584325664 -->\n<g id=\"edge16\" class=\"edge\">\n<title>4584325328&#45;&gt;4584325664</title>\n<path fill=\"none\" stroke=\"black\" d=\"M614.18,-77.23C604.95,-75.26 595.33,-73.4 586.24,-72 403.72,-43.78 355.24,-60.99 172.24,-36 164.82,-34.99 157.09,-33.78 149.41,-32.48\"/>\n<polygon fill=\"black\" stroke=\"black\" points=\"149.81,-29 139.36,-30.73 148.61,-35.9 149.81,-29\"/>\n</g>\n<!-- 4584325328&#45;&gt;4584326528 -->\n<g id=\"edge4\" class=\"edge\">\n<title>4584325328&#45;&gt;4584326528</title>\n<path fill=\"none\" stroke=\"black\" d=\"M613.31,-77.4C604.33,-75.46 595.03,-73.57 586.24,-72 467.94,-50.86 436.46,-57.65 318.24,-36 312.88,-35.02 307.32,-33.9 301.77,-32.72\"/>\n<polygon fill=\"black\" stroke=\"black\" points=\"302.35,-29.27 291.84,-30.55 300.86,-36.11 302.35,-29.27\"/>\n</g>\n<!-- 4584325328&#45;&gt;4584324544 -->\n<g id=\"edge6\" class=\"edge\">\n<title>4584325328&#45;&gt;4584324544</title>\n<path fill=\"none\" stroke=\"black\" d=\"M617.55,-76.49C576.68,-65.04 515.95,-48.04 471.13,-35.49\"/>\n<polygon fill=\"black\" stroke=\"black\" points=\"471.83,-32.05 461.26,-32.72 469.94,-38.79 471.83,-32.05\"/>\n</g>\n<!-- 4584325328&#45;&gt;4584465504 -->\n<g id=\"edge11\" class=\"edge\">\n<title>4584325328&#45;&gt;4584465504</title>\n<path fill=\"none\" stroke=\"black\" d=\"M648.69,-72.05C641.98,-63.67 633.74,-53.38 626.32,-44.1\"/>\n<polygon fill=\"black\" stroke=\"black\" points=\"629.04,-41.9 620.06,-36.28 623.58,-46.27 629.04,-41.9\"/>\n</g>\n<!-- 4584325328&#45;&gt;4584464496 -->\n<g id=\"edge7\" class=\"edge\">\n<title>4584325328&#45;&gt;4584464496</title>\n<path fill=\"none\" stroke=\"black\" d=\"M689.1,-73.46C706.21,-63.57 728.59,-50.62 747.23,-39.83\"/>\n<polygon fill=\"black\" stroke=\"black\" points=\"749.14,-42.77 756.05,-34.73 745.64,-36.71 749.14,-42.77\"/>\n</g>\n<!-- 4584325328&#45;&gt;4584466512 -->\n<g id=\"edge8\" class=\"edge\">\n<title>4584325328&#45;&gt;4584466512</title>\n<path fill=\"none\" stroke=\"black\" d=\"M709.91,-77.13C757.87,-65.18 831.94,-46.73 883.72,-33.83\"/>\n<polygon fill=\"black\" stroke=\"black\" points=\"884.59,-37.22 893.45,-31.4 882.9,-30.43 884.59,-37.22\"/>\n</g>\n</g>\n</svg>\n"
     },
     "metadata": {},
     "execution_count": 3
    }
   ],
   "metadata": {}
  },
  {
   "cell_type": "code",
   "execution_count": 4,
   "source": [
    "# 全てのupstream taskが失敗する場合のFlow\n",
    "with Flow(\"all_failed\") as flow_all_failed:\n",
    "    f1 = failed_task()\n",
    "    f2 = failed_task()\n",
    "    f3 = failed_task()\n",
    "    upstream_tasks = [f1, f2 ,f3]\n",
    "    all_s = all_successful_task(upstream_tasks=upstream_tasks)\n",
    "    all_f = all_failed_task(upstream_tasks=upstream_tasks)\n",
    "    any_s = any_successful_task(upstream_tasks=upstream_tasks)\n",
    "    any_f = any_failed_task(upstream_tasks=upstream_tasks)\n",
    "    some_s = some_successful_task(upstream_tasks=upstream_tasks)\n",
    "    some_f = some_failed_task(upstream_tasks=upstream_tasks)\n",
    "\n",
    "print(\"\\n\", \"🏃‍♂️💨💨💨💨💨💨💨💨 RUN: flow_all_failed\")\n",
    "flow_all_failed_state = flow_all_failed.run()\n",
    "flow_all_failed.visualize(flow_state=flow_all_failed_state)"
   ],
   "outputs": [
    {
     "output_type": "stream",
     "name": "stdout",
     "text": [
      "\n",
      " 🏃‍♂️💨💨💨💨💨💨💨💨 RUN: flow_all_failed\n",
      "[2021-09-18 19:19:46+0900] INFO - prefect.FlowRunner | Beginning Flow run for 'all_failed'\n",
      "[2021-09-18 19:19:46+0900] INFO - prefect.TaskRunner | Task 'failed_task': Starting task run...\n",
      "[2021-09-18 19:19:46+0900] ERROR - prefect.TaskRunner | Task 'failed_task': Exception encountered during task execution!\n",
      "Traceback (most recent call last):\n",
      "  File \"/Users/ryoasu/Library/Caches/pypoetry/virtualenvs/try-prefect-T2Jmh4JG-py3.9/lib/python3.9/site-packages/prefect/engine/task_runner.py\", line 859, in get_task_run_state\n",
      "    value = prefect.utilities.executors.run_task_with_timeout(\n",
      "  File \"/Users/ryoasu/Library/Caches/pypoetry/virtualenvs/try-prefect-T2Jmh4JG-py3.9/lib/python3.9/site-packages/prefect/utilities/executors.py\", line 445, in run_task_with_timeout\n",
      "    return task.run(*args, **kwargs)  # type: ignore\n",
      "  File \"/var/folders/6b/t3v4fdjs7gq6j0rw2gcb0s7r0000gn/T/ipykernel_75086/3956158869.py\", line 8, in failed_task\n",
      "    raise Exception(\"failed_1\")\n",
      "Exception: failed_1\n",
      "[2021-09-18 19:19:46+0900] INFO - prefect.TaskRunner | Task 'failed_task': Finished task run for task with final state: 'Failed'\n",
      "[2021-09-18 19:19:47+0900] INFO - prefect.TaskRunner | Task 'failed_task': Starting task run...\n",
      "[2021-09-18 19:19:47+0900] ERROR - prefect.TaskRunner | Task 'failed_task': Exception encountered during task execution!\n",
      "Traceback (most recent call last):\n",
      "  File \"/Users/ryoasu/Library/Caches/pypoetry/virtualenvs/try-prefect-T2Jmh4JG-py3.9/lib/python3.9/site-packages/prefect/engine/task_runner.py\", line 859, in get_task_run_state\n",
      "    value = prefect.utilities.executors.run_task_with_timeout(\n",
      "  File \"/Users/ryoasu/Library/Caches/pypoetry/virtualenvs/try-prefect-T2Jmh4JG-py3.9/lib/python3.9/site-packages/prefect/utilities/executors.py\", line 445, in run_task_with_timeout\n",
      "    return task.run(*args, **kwargs)  # type: ignore\n",
      "  File \"/var/folders/6b/t3v4fdjs7gq6j0rw2gcb0s7r0000gn/T/ipykernel_75086/3956158869.py\", line 8, in failed_task\n",
      "    raise Exception(\"failed_1\")\n",
      "Exception: failed_1\n",
      "[2021-09-18 19:19:47+0900] INFO - prefect.TaskRunner | Task 'failed_task': Finished task run for task with final state: 'Failed'\n",
      "[2021-09-18 19:19:47+0900] INFO - prefect.TaskRunner | Task 'failed_task': Starting task run...\n",
      "[2021-09-18 19:19:47+0900] ERROR - prefect.TaskRunner | Task 'failed_task': Exception encountered during task execution!\n",
      "Traceback (most recent call last):\n",
      "  File \"/Users/ryoasu/Library/Caches/pypoetry/virtualenvs/try-prefect-T2Jmh4JG-py3.9/lib/python3.9/site-packages/prefect/engine/task_runner.py\", line 859, in get_task_run_state\n",
      "    value = prefect.utilities.executors.run_task_with_timeout(\n",
      "  File \"/Users/ryoasu/Library/Caches/pypoetry/virtualenvs/try-prefect-T2Jmh4JG-py3.9/lib/python3.9/site-packages/prefect/utilities/executors.py\", line 445, in run_task_with_timeout\n",
      "    return task.run(*args, **kwargs)  # type: ignore\n",
      "  File \"/var/folders/6b/t3v4fdjs7gq6j0rw2gcb0s7r0000gn/T/ipykernel_75086/3956158869.py\", line 8, in failed_task\n",
      "    raise Exception(\"failed_1\")\n",
      "Exception: failed_1\n",
      "[2021-09-18 19:19:47+0900] INFO - prefect.TaskRunner | Task 'failed_task': Finished task run for task with final state: 'Failed'\n",
      "[2021-09-18 19:19:47+0900] INFO - prefect.TaskRunner | Task 'all_successful_task': Starting task run...\n",
      "[2021-09-18 19:19:47+0900] INFO - prefect.TaskRunner | Task 'all_successful_task': Finished task run for task with final state: 'TriggerFailed'\n",
      "[2021-09-18 19:19:47+0900] INFO - prefect.TaskRunner | Task 'all_failed_task': Starting task run...\n",
      "❌ task: all_failed_task\n",
      "[2021-09-18 19:19:47+0900] INFO - prefect.TaskRunner | Task 'all_failed_task': Finished task run for task with final state: 'Success'\n",
      "[2021-09-18 19:19:47+0900] INFO - prefect.TaskRunner | Task 'some_successful_task': Starting task run...\n",
      "[2021-09-18 19:19:47+0900] INFO - prefect.TaskRunner | Task 'some_successful_task': Finished task run for task with final state: 'TriggerFailed'\n",
      "[2021-09-18 19:19:47+0900] INFO - prefect.TaskRunner | Task 'any_successful_task': Starting task run...\n",
      "[2021-09-18 19:19:47+0900] INFO - prefect.TaskRunner | Task 'any_successful_task': Finished task run for task with final state: 'TriggerFailed'\n",
      "[2021-09-18 19:19:47+0900] INFO - prefect.TaskRunner | Task 'any_failed_task': Starting task run...\n",
      "❌　task: any_failed_task\n",
      "[2021-09-18 19:19:47+0900] INFO - prefect.TaskRunner | Task 'any_failed_task': Finished task run for task with final state: 'Success'\n",
      "[2021-09-18 19:19:47+0900] INFO - prefect.TaskRunner | Task 'some_failed_task': Starting task run...\n",
      "[2021-09-18 19:19:47+0900] INFO - prefect.TaskRunner | Task 'some_failed_task': Finished task run for task with final state: 'TriggerFailed'\n",
      "[2021-09-18 19:19:47+0900] INFO - prefect.FlowRunner | Flow run FAILED: some reference tasks failed.\n"
     ]
    },
    {
     "output_type": "execute_result",
     "data": {
      "text/plain": [
       "<graphviz.dot.Digraph at 0x1116c1af0>"
      ],
      "image/svg+xml": "<?xml version=\"1.0\" encoding=\"UTF-8\" standalone=\"no\"?>\n<!DOCTYPE svg PUBLIC \"-//W3C//DTD SVG 1.1//EN\"\n \"http://www.w3.org/Graphics/SVG/1.1/DTD/svg11.dtd\">\n<!-- Generated by graphviz version 2.49.0 (20210828.1703)\n -->\n<!-- Pages: 1 -->\n<svg width=\"1025pt\" height=\"116pt\"\n viewBox=\"0.00 0.00 1025.13 116.00\" xmlns=\"http://www.w3.org/2000/svg\" xmlns:xlink=\"http://www.w3.org/1999/xlink\">\n<g id=\"graph0\" class=\"graph\" transform=\"scale(1 1) rotate(0) translate(4 112)\">\n<polygon fill=\"white\" stroke=\"transparent\" points=\"-4,4 -4,-112 1021.13,-112 1021.13,4 -4,4\"/>\n<!-- 4587241376 -->\n<g id=\"node1\" class=\"node\">\n<title>4587241376</title>\n<ellipse fill=\"#eb0000\" fill-opacity=\"0.501961\" stroke=\"#eb0000\" stroke-opacity=\"0.501961\" cx=\"383.14\" cy=\"-90\" rx=\"50.89\" ry=\"18\"/>\n<text text-anchor=\"middle\" x=\"383.14\" y=\"-86.3\" font-family=\"Times,serif\" font-size=\"14.00\">failed_task</text>\n</g>\n<!-- 4501573344 -->\n<g id=\"node2\" class=\"node\">\n<title>4501573344</title>\n<ellipse fill=\"#ff5131\" fill-opacity=\"0.501961\" stroke=\"#ff5131\" stroke-opacity=\"0.501961\" cx=\"85.14\" cy=\"-18\" rx=\"85.29\" ry=\"18\"/>\n<text text-anchor=\"middle\" x=\"85.14\" y=\"-14.3\" font-family=\"Times,serif\" font-size=\"14.00\">any_successful_task</text>\n</g>\n<!-- 4587241376&#45;&gt;4501573344 -->\n<g id=\"edge4\" class=\"edge\">\n<title>4587241376&#45;&gt;4501573344</title>\n<path fill=\"none\" stroke=\"black\" d=\"M342.02,-79.34C292.29,-67.66 207.99,-47.86 149.6,-34.14\"/>\n<polygon fill=\"black\" stroke=\"black\" points=\"150.27,-30.7 139.73,-31.82 148.67,-37.52 150.27,-30.7\"/>\n</g>\n<!-- 4584325760 -->\n<g id=\"node3\" class=\"node\">\n<title>4584325760</title>\n<ellipse fill=\"#28a745\" fill-opacity=\"0.501961\" stroke=\"#28a745\" stroke-opacity=\"0.501961\" cx=\"256.14\" cy=\"-18\" rx=\"68.49\" ry=\"18\"/>\n<text text-anchor=\"middle\" x=\"256.14\" y=\"-14.3\" font-family=\"Times,serif\" font-size=\"14.00\">any_failed_task</text>\n</g>\n<!-- 4587241376&#45;&gt;4584325760 -->\n<g id=\"edge13\" class=\"edge\">\n<title>4587241376&#45;&gt;4584325760</title>\n<path fill=\"none\" stroke=\"black\" d=\"M356.83,-74.5C338.43,-64.36 313.6,-50.67 293.21,-39.43\"/>\n<polygon fill=\"black\" stroke=\"black\" points=\"294.63,-36.22 284.19,-34.46 291.25,-42.35 294.63,-36.22\"/>\n</g>\n<!-- 4587263648 -->\n<g id=\"node4\" class=\"node\">\n<title>4587263648</title>\n<ellipse fill=\"#ff5131\" fill-opacity=\"0.501961\" stroke=\"#ff5131\" stroke-opacity=\"0.501961\" cx=\"416.14\" cy=\"-18\" rx=\"74.19\" ry=\"18\"/>\n<text text-anchor=\"middle\" x=\"416.14\" y=\"-14.3\" font-family=\"Times,serif\" font-size=\"14.00\">some_failed_task</text>\n</g>\n<!-- 4587241376&#45;&gt;4587263648 -->\n<g id=\"edge8\" class=\"edge\">\n<title>4587241376&#45;&gt;4587263648</title>\n<path fill=\"none\" stroke=\"black\" d=\"M391.13,-72.05C394.89,-64.09 399.45,-54.41 403.65,-45.51\"/>\n<polygon fill=\"black\" stroke=\"black\" points=\"406.9,-46.81 408,-36.28 400.57,-43.83 406.9,-46.81\"/>\n</g>\n<!-- 4584467760 -->\n<g id=\"node7\" class=\"node\">\n<title>4584467760</title>\n<ellipse fill=\"#ff5131\" fill-opacity=\"0.501961\" stroke=\"#ff5131\" stroke-opacity=\"0.501961\" cx=\"589.14\" cy=\"-18\" rx=\"81.49\" ry=\"18\"/>\n<text text-anchor=\"middle\" x=\"589.14\" y=\"-14.3\" font-family=\"Times,serif\" font-size=\"14.00\">all_successful_task</text>\n</g>\n<!-- 4587241376&#45;&gt;4584467760 -->\n<g id=\"edge17\" class=\"edge\">\n<title>4587241376&#45;&gt;4584467760</title>\n<path fill=\"none\" stroke=\"black\" d=\"M418.56,-76.97C451.19,-65.88 500.02,-49.28 537.09,-36.69\"/>\n<polygon fill=\"black\" stroke=\"black\" points=\"538.38,-39.95 546.72,-33.41 536.13,-33.32 538.38,-39.95\"/>\n</g>\n<!-- 4501570896 -->\n<g id=\"node8\" class=\"node\">\n<title>4501570896</title>\n<ellipse fill=\"#28a745\" fill-opacity=\"0.501961\" stroke=\"#28a745\" stroke-opacity=\"0.501961\" cx=\"753.14\" cy=\"-18\" rx=\"64.19\" ry=\"18\"/>\n<text text-anchor=\"middle\" x=\"753.14\" y=\"-14.3\" font-family=\"Times,serif\" font-size=\"14.00\">all_failed_task</text>\n</g>\n<!-- 4587241376&#45;&gt;4501570896 -->\n<g id=\"edge15\" class=\"edge\">\n<title>4587241376&#45;&gt;4501570896</title>\n<path fill=\"none\" stroke=\"black\" d=\"M420.09,-77.56C427.36,-75.53 434.96,-73.57 442.14,-72 546.22,-49.2 574.48,-55.94 679.14,-36 684.56,-34.97 690.19,-33.82 695.82,-32.62\"/>\n<polygon fill=\"black\" stroke=\"black\" points=\"696.86,-35.97 705.88,-30.41 695.36,-29.13 696.86,-35.97\"/>\n</g>\n<!-- 4587262640 -->\n<g id=\"node9\" class=\"node\">\n<title>4587262640</title>\n<ellipse fill=\"#ff5131\" fill-opacity=\"0.501961\" stroke=\"#ff5131\" stroke-opacity=\"0.501961\" cx=\"926.14\" cy=\"-18\" rx=\"90.98\" ry=\"18\"/>\n<text text-anchor=\"middle\" x=\"926.14\" y=\"-14.3\" font-family=\"Times,serif\" font-size=\"14.00\">some_successful_task</text>\n</g>\n<!-- 4587241376&#45;&gt;4587262640 -->\n<g id=\"edge3\" class=\"edge\">\n<title>4587241376&#45;&gt;4587262640</title>\n<path fill=\"none\" stroke=\"black\" d=\"M419.39,-77.4C426.86,-75.34 434.71,-73.41 442.14,-72 610.57,-40.13 656.19,-58.38 826.14,-36 834.36,-34.92 842.94,-33.66 851.47,-32.32\"/>\n<polygon fill=\"black\" stroke=\"black\" points=\"852.11,-35.77 861.43,-30.73 851,-28.85 852.11,-35.77\"/>\n</g>\n<!-- 4587237968 -->\n<g id=\"node5\" class=\"node\">\n<title>4587237968</title>\n<ellipse fill=\"#eb0000\" fill-opacity=\"0.501961\" stroke=\"#eb0000\" stroke-opacity=\"0.501961\" cx=\"502.14\" cy=\"-90\" rx=\"50.89\" ry=\"18\"/>\n<text text-anchor=\"middle\" x=\"502.14\" y=\"-86.3\" font-family=\"Times,serif\" font-size=\"14.00\">failed_task</text>\n</g>\n<!-- 4587237968&#45;&gt;4501573344 -->\n<g id=\"edge1\" class=\"edge\">\n<title>4587237968&#45;&gt;4501573344</title>\n<path fill=\"none\" stroke=\"black\" d=\"M465.21,-77.47C457.94,-75.45 450.34,-73.52 443.14,-72 327.28,-47.54 296.1,-54.54 179.14,-36 171.8,-34.84 164.14,-33.56 156.51,-32.24\"/>\n<polygon fill=\"black\" stroke=\"black\" points=\"156.97,-28.77 146.51,-30.49 155.76,-35.66 156.97,-28.77\"/>\n</g>\n<!-- 4587237968&#45;&gt;4584325760 -->\n<g id=\"edge10\" class=\"edge\">\n<title>4587237968&#45;&gt;4584325760</title>\n<path fill=\"none\" stroke=\"black\" d=\"M464.06,-78C457.11,-76 449.91,-73.93 443.14,-72 398.62,-59.28 348.09,-44.96 310.79,-34.42\"/>\n<polygon fill=\"black\" stroke=\"black\" points=\"311.7,-31.04 301.12,-31.69 309.79,-37.78 311.7,-31.04\"/>\n</g>\n<!-- 4587237968&#45;&gt;4587263648 -->\n<g id=\"edge16\" class=\"edge\">\n<title>4587237968&#45;&gt;4587263648</title>\n<path fill=\"none\" stroke=\"black\" d=\"M482.63,-73.12C471.33,-63.92 456.9,-52.18 444.38,-41.98\"/>\n<polygon fill=\"black\" stroke=\"black\" points=\"446.44,-39.15 436.48,-35.55 442.02,-44.58 446.44,-39.15\"/>\n</g>\n<!-- 4587237968&#45;&gt;4584467760 -->\n<g id=\"edge18\" class=\"edge\">\n<title>4587237968&#45;&gt;4584467760</title>\n<path fill=\"none\" stroke=\"black\" d=\"M521.88,-73.12C533.32,-63.92 547.91,-52.18 560.58,-41.98\"/>\n<polygon fill=\"black\" stroke=\"black\" points=\"562.97,-44.55 568.57,-35.55 558.59,-39.09 562.97,-44.55\"/>\n</g>\n<!-- 4587237968&#45;&gt;4501570896 -->\n<g id=\"edge9\" class=\"edge\">\n<title>4587237968&#45;&gt;4501570896</title>\n<path fill=\"none\" stroke=\"black\" d=\"M540.21,-77.96C547.17,-75.97 554.37,-73.91 561.14,-72 607.58,-58.9 660.43,-44.34 698.92,-33.79\"/>\n<polygon fill=\"black\" stroke=\"black\" points=\"700.15,-37.09 708.87,-31.07 698.3,-30.33 700.15,-37.09\"/>\n</g>\n<!-- 4587237968&#45;&gt;4587262640 -->\n<g id=\"edge6\" class=\"edge\">\n<title>4587237968&#45;&gt;4587262640</title>\n<path fill=\"none\" stroke=\"black\" d=\"M539.07,-77.47C546.34,-75.45 553.95,-73.52 561.14,-72 677.45,-47.48 708.65,-53.96 826.14,-36 834,-34.8 842.2,-33.49 850.37,-32.16\"/>\n<polygon fill=\"black\" stroke=\"black\" points=\"851,-35.6 860.3,-30.51 849.86,-28.69 851,-35.6\"/>\n</g>\n<!-- 4587241232 -->\n<g id=\"node6\" class=\"node\">\n<title>4587241232</title>\n<ellipse fill=\"#eb0000\" fill-opacity=\"0.501961\" stroke=\"#eb0000\" stroke-opacity=\"0.501961\" cx=\"621.14\" cy=\"-90\" rx=\"50.89\" ry=\"18\"/>\n<text text-anchor=\"middle\" x=\"621.14\" y=\"-86.3\" font-family=\"Times,serif\" font-size=\"14.00\">failed_task</text>\n</g>\n<!-- 4587241232&#45;&gt;4501573344 -->\n<g id=\"edge7\" class=\"edge\">\n<title>4587241232&#45;&gt;4501573344</title>\n<path fill=\"none\" stroke=\"black\" d=\"M584.89,-77.4C577.43,-75.34 569.58,-73.41 562.14,-72 394.15,-40.19 348.53,-59.23 179.14,-36 171.52,-34.95 163.57,-33.73 155.66,-32.42\"/>\n<polygon fill=\"black\" stroke=\"black\" points=\"156.14,-28.96 145.7,-30.73 154.97,-35.86 156.14,-28.96\"/>\n</g>\n<!-- 4587241232&#45;&gt;4584325760 -->\n<g id=\"edge12\" class=\"edge\">\n<title>4587241232&#45;&gt;4584325760</title>\n<path fill=\"none\" stroke=\"black\" d=\"M584.19,-77.59C576.92,-75.56 569.32,-73.59 562.14,-72 461.56,-49.69 434.38,-55.11 333.14,-36 327.45,-34.93 321.55,-33.74 315.64,-32.52\"/>\n<polygon fill=\"black\" stroke=\"black\" points=\"316.26,-29.07 305.76,-30.42 314.81,-35.92 316.26,-29.07\"/>\n</g>\n<!-- 4587241232&#45;&gt;4587263648 -->\n<g id=\"edge2\" class=\"edge\">\n<title>4587241232&#45;&gt;4587263648</title>\n<path fill=\"none\" stroke=\"black\" d=\"M585.9,-76.97C553.11,-65.77 503.89,-48.96 466.88,-36.32\"/>\n<polygon fill=\"black\" stroke=\"black\" points=\"467.86,-32.96 457.27,-33.04 465.6,-39.59 467.86,-32.96\"/>\n</g>\n<!-- 4587241232&#45;&gt;4584467760 -->\n<g id=\"edge11\" class=\"edge\">\n<title>4587241232&#45;&gt;4584467760</title>\n<path fill=\"none\" stroke=\"black\" d=\"M613.4,-72.05C609.76,-64.09 605.33,-54.41 601.26,-45.51\"/>\n<polygon fill=\"black\" stroke=\"black\" points=\"604.38,-43.91 597.04,-36.28 598.01,-46.83 604.38,-43.91\"/>\n</g>\n<!-- 4587241232&#45;&gt;4501570896 -->\n<g id=\"edge5\" class=\"edge\">\n<title>4587241232&#45;&gt;4501570896</title>\n<path fill=\"none\" stroke=\"black\" d=\"M648.17,-74.67C667.58,-64.38 693.98,-50.37 715.45,-38.99\"/>\n<polygon fill=\"black\" stroke=\"black\" points=\"717.12,-42.06 724.32,-34.29 713.84,-35.88 717.12,-42.06\"/>\n</g>\n<!-- 4587241232&#45;&gt;4587262640 -->\n<g id=\"edge14\" class=\"edge\">\n<title>4587241232&#45;&gt;4587262640</title>\n<path fill=\"none\" stroke=\"black\" d=\"M662.59,-79.49C713.2,-67.87 799.44,-48.08 859.43,-34.31\"/>\n<polygon fill=\"black\" stroke=\"black\" points=\"860.23,-37.72 869.19,-32.07 858.66,-30.9 860.23,-37.72\"/>\n</g>\n</g>\n</svg>\n"
     },
     "metadata": {},
     "execution_count": 4
    }
   ],
   "metadata": {}
  },
  {
   "cell_type": "code",
   "execution_count": 5,
   "source": [
    "# upstream taskの1つが成功し1つが失敗する場合のFlow\n",
    "with Flow(\"one_successful_one_failed\") as flow_one_successful_one_failed:\n",
    "    s1 = successful_task()\n",
    "    f1 = failed_task()\n",
    "    upstream_tasks = [s1, f1]\n",
    "    all_s = all_successful_task(upstream_tasks=upstream_tasks)\n",
    "    all_f = all_failed_task(upstream_tasks=upstream_tasks)\n",
    "    any_s = any_successful_task(upstream_tasks=upstream_tasks)\n",
    "    any_f = any_failed_task(upstream_tasks=upstream_tasks)\n",
    "    some_s = some_successful_task(upstream_tasks=upstream_tasks)\n",
    "    some_f = some_failed_task(upstream_tasks=upstream_tasks)\n",
    "\n",
    "print(\"🏃‍♂️💨💨💨💨💨💨💨💨 RUN: flow_one_successful_one_failed\")\n",
    "flow_one_successful_one_failed_state = flow_one_successful_one_failed.run()\n",
    "flow_one_successful_one_failed.visualize(flow_state=flow_one_successful_one_failed_state)"
   ],
   "outputs": [
    {
     "output_type": "stream",
     "name": "stdout",
     "text": [
      "🏃‍♂️💨💨💨💨💨💨💨💨 RUN: flow_one_successful_one_failed\n",
      "[2021-09-18 19:19:47+0900] INFO - prefect.FlowRunner | Beginning Flow run for 'one_successful_one_failed'\n",
      "[2021-09-18 19:19:47+0900] INFO - prefect.TaskRunner | Task 'failed_task': Starting task run...\n",
      "[2021-09-18 19:19:47+0900] ERROR - prefect.TaskRunner | Task 'failed_task': Exception encountered during task execution!\n",
      "Traceback (most recent call last):\n",
      "  File \"/Users/ryoasu/Library/Caches/pypoetry/virtualenvs/try-prefect-T2Jmh4JG-py3.9/lib/python3.9/site-packages/prefect/engine/task_runner.py\", line 859, in get_task_run_state\n",
      "    value = prefect.utilities.executors.run_task_with_timeout(\n",
      "  File \"/Users/ryoasu/Library/Caches/pypoetry/virtualenvs/try-prefect-T2Jmh4JG-py3.9/lib/python3.9/site-packages/prefect/utilities/executors.py\", line 445, in run_task_with_timeout\n",
      "    return task.run(*args, **kwargs)  # type: ignore\n",
      "  File \"/var/folders/6b/t3v4fdjs7gq6j0rw2gcb0s7r0000gn/T/ipykernel_75086/3956158869.py\", line 8, in failed_task\n",
      "    raise Exception(\"failed_1\")\n",
      "Exception: failed_1\n",
      "[2021-09-18 19:19:47+0900] INFO - prefect.TaskRunner | Task 'failed_task': Finished task run for task with final state: 'Failed'\n",
      "[2021-09-18 19:19:47+0900] INFO - prefect.TaskRunner | Task 'successful_task': Starting task run...\n",
      "[2021-09-18 19:19:47+0900] INFO - prefect.TaskRunner | Task 'successful_task': Finished task run for task with final state: 'Success'\n",
      "[2021-09-18 19:19:47+0900] INFO - prefect.TaskRunner | Task 'all_successful_task': Starting task run...\n",
      "[2021-09-18 19:19:47+0900] INFO - prefect.TaskRunner | Task 'all_successful_task': Finished task run for task with final state: 'TriggerFailed'\n",
      "[2021-09-18 19:19:47+0900] INFO - prefect.TaskRunner | Task 'some_failed_task': Starting task run...\n",
      "❌　task: some_failed_task\n",
      "[2021-09-18 19:19:47+0900] INFO - prefect.TaskRunner | Task 'some_failed_task': Finished task run for task with final state: 'Success'\n",
      "[2021-09-18 19:19:48+0900] INFO - prefect.TaskRunner | Task 'all_failed_task': Starting task run...\n",
      "[2021-09-18 19:19:48+0900] INFO - prefect.TaskRunner | Task 'all_failed_task': Finished task run for task with final state: 'TriggerFailed'\n",
      "[2021-09-18 19:19:48+0900] INFO - prefect.TaskRunner | Task 'any_successful_task': Starting task run...\n",
      "⭕️　task: any_successful_task\n",
      "[2021-09-18 19:19:48+0900] INFO - prefect.TaskRunner | Task 'any_successful_task': Finished task run for task with final state: 'Success'\n",
      "[2021-09-18 19:19:48+0900] INFO - prefect.TaskRunner | Task 'any_failed_task': Starting task run...\n",
      "❌　task: any_failed_task\n",
      "[2021-09-18 19:19:48+0900] INFO - prefect.TaskRunner | Task 'any_failed_task': Finished task run for task with final state: 'Success'\n",
      "[2021-09-18 19:19:48+0900] INFO - prefect.TaskRunner | Task 'some_successful_task': Starting task run...\n",
      "⭕️　task: some_successful_task\n",
      "[2021-09-18 19:19:48+0900] INFO - prefect.TaskRunner | Task 'some_successful_task': Finished task run for task with final state: 'Success'\n",
      "[2021-09-18 19:19:48+0900] INFO - prefect.FlowRunner | Flow run FAILED: some reference tasks failed.\n"
     ]
    },
    {
     "output_type": "execute_result",
     "data": {
      "text/plain": [
       "<graphviz.dot.Digraph at 0x11172a7f0>"
      ],
      "image/svg+xml": "<?xml version=\"1.0\" encoding=\"UTF-8\" standalone=\"no\"?>\n<!DOCTYPE svg PUBLIC \"-//W3C//DTD SVG 1.1//EN\"\n \"http://www.w3.org/Graphics/SVG/1.1/DTD/svg11.dtd\">\n<!-- Generated by graphviz version 2.49.0 (20210828.1703)\n -->\n<!-- Pages: 1 -->\n<svg width=\"1024pt\" height=\"116pt\"\n viewBox=\"0.00 0.00 1024.44 116.00\" xmlns=\"http://www.w3.org/2000/svg\" xmlns:xlink=\"http://www.w3.org/1999/xlink\">\n<g id=\"graph0\" class=\"graph\" transform=\"scale(1 1) rotate(0) translate(4 112)\">\n<polygon fill=\"white\" stroke=\"transparent\" points=\"-4,4 -4,-112 1020.44,-112 1020.44,4 -4,4\"/>\n<!-- 4587238400 -->\n<g id=\"node1\" class=\"node\">\n<title>4587238400</title>\n<ellipse fill=\"#eb0000\" fill-opacity=\"0.501961\" stroke=\"#eb0000\" stroke-opacity=\"0.501961\" cx=\"412.34\" cy=\"-90\" rx=\"50.89\" ry=\"18\"/>\n<text text-anchor=\"middle\" x=\"412.34\" y=\"-86.3\" font-family=\"Times,serif\" font-size=\"14.00\">failed_task</text>\n</g>\n<!-- 4587239072 -->\n<g id=\"node2\" class=\"node\">\n<title>4587239072</title>\n<ellipse fill=\"#ff5131\" fill-opacity=\"0.501961\" stroke=\"#ff5131\" stroke-opacity=\"0.501961\" cx=\"64.34\" cy=\"-18\" rx=\"64.19\" ry=\"18\"/>\n<text text-anchor=\"middle\" x=\"64.34\" y=\"-14.3\" font-family=\"Times,serif\" font-size=\"14.00\">all_failed_task</text>\n</g>\n<!-- 4587238400&#45;&gt;4587239072 -->\n<g id=\"edge9\" class=\"edge\">\n<title>4587238400&#45;&gt;4587239072</title>\n<path fill=\"none\" stroke=\"black\" d=\"M367.94,-80.99C313.49,-71.03 218.43,-53.25 137.34,-36 132.3,-34.93 127.07,-33.78 121.84,-32.61\"/>\n<polygon fill=\"black\" stroke=\"black\" points=\"122.33,-29.13 111.8,-30.33 120.78,-35.96 122.33,-29.13\"/>\n</g>\n<!-- 4587240512 -->\n<g id=\"node3\" class=\"node\">\n<title>4587240512</title>\n<ellipse fill=\"#28a745\" fill-opacity=\"0.501961\" stroke=\"#28a745\" stroke-opacity=\"0.501961\" cx=\"231.34\" cy=\"-18\" rx=\"85.29\" ry=\"18\"/>\n<text text-anchor=\"middle\" x=\"231.34\" y=\"-14.3\" font-family=\"Times,serif\" font-size=\"14.00\">any_successful_task</text>\n</g>\n<!-- 4587238400&#45;&gt;4587240512 -->\n<g id=\"edge1\" class=\"edge\">\n<title>4587238400&#45;&gt;4587240512</title>\n<path fill=\"none\" stroke=\"black\" d=\"M379.15,-76.16C351.31,-65.39 311.18,-49.88 279.76,-37.72\"/>\n<polygon fill=\"black\" stroke=\"black\" points=\"280.9,-34.41 270.31,-34.07 278.37,-40.94 280.9,-34.41\"/>\n</g>\n<!-- 4587238208 -->\n<g id=\"node4\" class=\"node\">\n<title>4587238208</title>\n<ellipse fill=\"#28a745\" fill-opacity=\"0.501961\" stroke=\"#28a745\" stroke-opacity=\"0.501961\" cx=\"402.34\" cy=\"-18\" rx=\"68.49\" ry=\"18\"/>\n<text text-anchor=\"middle\" x=\"402.34\" y=\"-14.3\" font-family=\"Times,serif\" font-size=\"14.00\">any_failed_task</text>\n</g>\n<!-- 4587238400&#45;&gt;4587238208 -->\n<g id=\"edge8\" class=\"edge\">\n<title>4587238400&#45;&gt;4587238208</title>\n<path fill=\"none\" stroke=\"black\" d=\"M409.87,-71.7C408.77,-63.98 407.45,-54.71 406.22,-46.11\"/>\n<polygon fill=\"black\" stroke=\"black\" points=\"409.67,-45.51 404.79,-36.1 402.74,-46.5 409.67,-45.51\"/>\n</g>\n<!-- 4587692576 -->\n<g id=\"node5\" class=\"node\">\n<title>4587692576</title>\n<ellipse fill=\"#28a745\" fill-opacity=\"0.501961\" stroke=\"#28a745\" stroke-opacity=\"0.501961\" cx=\"579.34\" cy=\"-18\" rx=\"90.98\" ry=\"18\"/>\n<text text-anchor=\"middle\" x=\"579.34\" y=\"-14.3\" font-family=\"Times,serif\" font-size=\"14.00\">some_successful_task</text>\n</g>\n<!-- 4587238400&#45;&gt;4587692576 -->\n<g id=\"edge2\" class=\"edge\">\n<title>4587238400&#45;&gt;4587692576</title>\n<path fill=\"none\" stroke=\"black\" d=\"M443.76,-75.83C468.88,-65.3 504.49,-50.38 532.91,-38.47\"/>\n<polygon fill=\"black\" stroke=\"black\" points=\"534.37,-41.65 542.24,-34.55 531.67,-35.19 534.37,-41.65\"/>\n</g>\n<!-- 4587240272 -->\n<g id=\"node7\" class=\"node\">\n<title>4587240272</title>\n<ellipse fill=\"#ff5131\" fill-opacity=\"0.501961\" stroke=\"#ff5131\" stroke-opacity=\"0.501961\" cx=\"769.34\" cy=\"-18\" rx=\"81.49\" ry=\"18\"/>\n<text text-anchor=\"middle\" x=\"769.34\" y=\"-14.3\" font-family=\"Times,serif\" font-size=\"14.00\">all_successful_task</text>\n</g>\n<!-- 4587238400&#45;&gt;4587240272 -->\n<g id=\"edge6\" class=\"edge\">\n<title>4587238400&#45;&gt;4587240272</title>\n<path fill=\"none\" stroke=\"black\" d=\"M454.53,-79.73C466.43,-77.17 479.38,-74.43 491.34,-72 511.51,-67.91 624.27,-46.49 699.85,-32.16\"/>\n<polygon fill=\"black\" stroke=\"black\" points=\"700.62,-35.58 709.79,-30.28 699.31,-28.7 700.62,-35.58\"/>\n</g>\n<!-- 4587693104 -->\n<g id=\"node8\" class=\"node\">\n<title>4587693104</title>\n<ellipse fill=\"#28a745\" fill-opacity=\"0.501961\" stroke=\"#28a745\" stroke-opacity=\"0.501961\" cx=\"942.34\" cy=\"-18\" rx=\"74.19\" ry=\"18\"/>\n<text text-anchor=\"middle\" x=\"942.34\" y=\"-14.3\" font-family=\"Times,serif\" font-size=\"14.00\">some_failed_task</text>\n</g>\n<!-- 4587238400&#45;&gt;4587693104 -->\n<g id=\"edge4\" class=\"edge\">\n<title>4587238400&#45;&gt;4587693104</title>\n<path fill=\"none\" stroke=\"black\" d=\"M453.18,-79.28C465.4,-76.62 478.87,-73.95 491.34,-72 653.72,-46.67 696.85,-60.52 859.34,-36 865.89,-35.01 872.7,-33.85 879.48,-32.59\"/>\n<polygon fill=\"black\" stroke=\"black\" points=\"880.19,-36.02 889.36,-30.71 878.88,-29.15 880.19,-36.02\"/>\n</g>\n<!-- 4587621104 -->\n<g id=\"node6\" class=\"node\">\n<title>4587621104</title>\n<ellipse fill=\"#28a745\" fill-opacity=\"0.501961\" stroke=\"#28a745\" stroke-opacity=\"0.501961\" cx=\"568.34\" cy=\"-90\" rx=\"67.69\" ry=\"18\"/>\n<text text-anchor=\"middle\" x=\"568.34\" y=\"-86.3\" font-family=\"Times,serif\" font-size=\"14.00\">successful_task</text>\n</g>\n<!-- 4587621104&#45;&gt;4587239072 -->\n<g id=\"edge5\" class=\"edge\">\n<title>4587621104&#45;&gt;4587239072</title>\n<path fill=\"none\" stroke=\"black\" d=\"M514.88,-78.87C501.05,-76.43 486.17,-73.96 472.34,-72 324.09,-50.93 284.98,-61.03 137.34,-36 131.89,-35.08 126.24,-33.99 120.6,-32.82\"/>\n<polygon fill=\"black\" stroke=\"black\" points=\"121.03,-29.33 110.51,-30.65 119.55,-36.18 121.03,-29.33\"/>\n</g>\n<!-- 4587621104&#45;&gt;4587240512 -->\n<g id=\"edge11\" class=\"edge\">\n<title>4587621104&#45;&gt;4587240512</title>\n<path fill=\"none\" stroke=\"black\" d=\"M516.79,-78.29C458.69,-66.22 363.97,-46.55 299.72,-33.2\"/>\n<polygon fill=\"black\" stroke=\"black\" points=\"300.18,-29.72 289.68,-31.12 298.76,-36.58 300.18,-29.72\"/>\n</g>\n<!-- 4587621104&#45;&gt;4587238208 -->\n<g id=\"edge12\" class=\"edge\">\n<title>4587621104&#45;&gt;4587238208</title>\n<path fill=\"none\" stroke=\"black\" d=\"M533.95,-74.5C508.55,-63.79 473.77,-49.12 446.35,-37.56\"/>\n<polygon fill=\"black\" stroke=\"black\" points=\"447.55,-34.27 436.98,-33.61 444.84,-40.72 447.55,-34.27\"/>\n</g>\n<!-- 4587621104&#45;&gt;4587692576 -->\n<g id=\"edge3\" class=\"edge\">\n<title>4587621104&#45;&gt;4587692576</title>\n<path fill=\"none\" stroke=\"black\" d=\"M571.06,-71.7C572.28,-63.98 573.73,-54.71 575.08,-46.11\"/>\n<polygon fill=\"black\" stroke=\"black\" points=\"578.56,-46.53 576.66,-36.1 571.65,-45.44 578.56,-46.53\"/>\n</g>\n<!-- 4587621104&#45;&gt;4587240272 -->\n<g id=\"edge7\" class=\"edge\">\n<title>4587621104&#45;&gt;4587240272</title>\n<path fill=\"none\" stroke=\"black\" d=\"M607.58,-75.34C639.08,-64.36 683.58,-48.87 717.93,-36.9\"/>\n<polygon fill=\"black\" stroke=\"black\" points=\"719.5,-40.07 727.79,-33.47 717.19,-33.46 719.5,-40.07\"/>\n</g>\n<!-- 4587621104&#45;&gt;4587693104 -->\n<g id=\"edge10\" class=\"edge\">\n<title>4587621104&#45;&gt;4587693104</title>\n<path fill=\"none\" stroke=\"black\" d=\"M623.12,-79.39C681.66,-69.04 777.16,-51.9 859.34,-36 865.41,-34.83 871.72,-33.58 878.03,-32.32\"/>\n<polygon fill=\"black\" stroke=\"black\" points=\"878.8,-35.73 887.91,-30.33 877.42,-28.87 878.8,-35.73\"/>\n</g>\n</g>\n</svg>\n"
     },
     "metadata": {},
     "execution_count": 5
    }
   ],
   "metadata": {}
  },
  {
   "cell_type": "code",
   "execution_count": 6,
   "source": [
    "# upstream taskの2つが成功し3つが失敗する場合のFlow\n",
    "with Flow(\"two_successful_three_failed\") as flow_two_successful_three_failed:\n",
    "    s1 = successful_task()\n",
    "    s2 = successful_task()\n",
    "    f1 = failed_task()\n",
    "    f2 = failed_task()\n",
    "    f3 = failed_task()\n",
    "    upstream_tasks = [s1, s2, f1, f2, f3]\n",
    "    all_s = all_successful_task(upstream_tasks=upstream_tasks)\n",
    "    all_f = all_failed_task(upstream_tasks=upstream_tasks)\n",
    "    any_s = any_successful_task(upstream_tasks=upstream_tasks)\n",
    "    any_f = any_failed_task(upstream_tasks=upstream_tasks)\n",
    "    some_s = some_successful_task(upstream_tasks=upstream_tasks)\n",
    "    some_f = some_failed_task(upstream_tasks=upstream_tasks)\n",
    "\n",
    "print(\"🏃‍♂️💨💨💨💨💨💨💨💨 RUN: flow_two_successful_three_failed\")\n",
    "flow_two_successful_three_failed_state = flow_two_successful_three_failed.run()\n",
    "flow_two_successful_three_failed.visualize(flow_state=flow_two_successful_three_failed_state)"
   ],
   "outputs": [
    {
     "output_type": "stream",
     "name": "stdout",
     "text": [
      "🏃‍♂️💨💨💨💨💨💨💨💨 RUN: flow_two_successful_three_failed\n",
      "[2021-09-18 19:19:48+0900] INFO - prefect.FlowRunner | Beginning Flow run for 'two_successful_three_failed'\n",
      "[2021-09-18 19:19:48+0900] INFO - prefect.TaskRunner | Task 'failed_task': Starting task run...\n",
      "[2021-09-18 19:19:48+0900] ERROR - prefect.TaskRunner | Task 'failed_task': Exception encountered during task execution!\n",
      "Traceback (most recent call last):\n",
      "  File \"/Users/ryoasu/Library/Caches/pypoetry/virtualenvs/try-prefect-T2Jmh4JG-py3.9/lib/python3.9/site-packages/prefect/engine/task_runner.py\", line 859, in get_task_run_state\n",
      "    value = prefect.utilities.executors.run_task_with_timeout(\n",
      "  File \"/Users/ryoasu/Library/Caches/pypoetry/virtualenvs/try-prefect-T2Jmh4JG-py3.9/lib/python3.9/site-packages/prefect/utilities/executors.py\", line 445, in run_task_with_timeout\n",
      "    return task.run(*args, **kwargs)  # type: ignore\n",
      "  File \"/var/folders/6b/t3v4fdjs7gq6j0rw2gcb0s7r0000gn/T/ipykernel_75086/3956158869.py\", line 8, in failed_task\n",
      "    raise Exception(\"failed_1\")\n",
      "Exception: failed_1\n",
      "[2021-09-18 19:19:48+0900] INFO - prefect.TaskRunner | Task 'failed_task': Finished task run for task with final state: 'Failed'\n",
      "[2021-09-18 19:19:48+0900] INFO - prefect.TaskRunner | Task 'successful_task': Starting task run...\n",
      "[2021-09-18 19:19:48+0900] INFO - prefect.TaskRunner | Task 'successful_task': Finished task run for task with final state: 'Success'\n",
      "[2021-09-18 19:19:48+0900] INFO - prefect.TaskRunner | Task 'failed_task': Starting task run...\n",
      "[2021-09-18 19:19:48+0900] ERROR - prefect.TaskRunner | Task 'failed_task': Exception encountered during task execution!\n",
      "Traceback (most recent call last):\n",
      "  File \"/Users/ryoasu/Library/Caches/pypoetry/virtualenvs/try-prefect-T2Jmh4JG-py3.9/lib/python3.9/site-packages/prefect/engine/task_runner.py\", line 859, in get_task_run_state\n",
      "    value = prefect.utilities.executors.run_task_with_timeout(\n",
      "  File \"/Users/ryoasu/Library/Caches/pypoetry/virtualenvs/try-prefect-T2Jmh4JG-py3.9/lib/python3.9/site-packages/prefect/utilities/executors.py\", line 445, in run_task_with_timeout\n",
      "    return task.run(*args, **kwargs)  # type: ignore\n",
      "  File \"/var/folders/6b/t3v4fdjs7gq6j0rw2gcb0s7r0000gn/T/ipykernel_75086/3956158869.py\", line 8, in failed_task\n",
      "    raise Exception(\"failed_1\")\n",
      "Exception: failed_1\n",
      "[2021-09-18 19:19:48+0900] INFO - prefect.TaskRunner | Task 'failed_task': Finished task run for task with final state: 'Failed'\n",
      "[2021-09-18 19:19:48+0900] INFO - prefect.TaskRunner | Task 'successful_task': Starting task run...\n",
      "[2021-09-18 19:19:48+0900] INFO - prefect.TaskRunner | Task 'successful_task': Finished task run for task with final state: 'Success'\n",
      "[2021-09-18 19:19:48+0900] INFO - prefect.TaskRunner | Task 'failed_task': Starting task run...\n",
      "[2021-09-18 19:19:48+0900] ERROR - prefect.TaskRunner | Task 'failed_task': Exception encountered during task execution!\n",
      "Traceback (most recent call last):\n",
      "  File \"/Users/ryoasu/Library/Caches/pypoetry/virtualenvs/try-prefect-T2Jmh4JG-py3.9/lib/python3.9/site-packages/prefect/engine/task_runner.py\", line 859, in get_task_run_state\n",
      "    value = prefect.utilities.executors.run_task_with_timeout(\n",
      "  File \"/Users/ryoasu/Library/Caches/pypoetry/virtualenvs/try-prefect-T2Jmh4JG-py3.9/lib/python3.9/site-packages/prefect/utilities/executors.py\", line 445, in run_task_with_timeout\n",
      "    return task.run(*args, **kwargs)  # type: ignore\n",
      "  File \"/var/folders/6b/t3v4fdjs7gq6j0rw2gcb0s7r0000gn/T/ipykernel_75086/3956158869.py\", line 8, in failed_task\n",
      "    raise Exception(\"failed_1\")\n",
      "Exception: failed_1\n",
      "[2021-09-18 19:19:48+0900] INFO - prefect.TaskRunner | Task 'failed_task': Finished task run for task with final state: 'Failed'\n",
      "[2021-09-18 19:19:48+0900] INFO - prefect.TaskRunner | Task 'all_successful_task': Starting task run...\n",
      "[2021-09-18 19:19:48+0900] INFO - prefect.TaskRunner | Task 'all_successful_task': Finished task run for task with final state: 'TriggerFailed'\n",
      "[2021-09-18 19:19:48+0900] INFO - prefect.TaskRunner | Task 'some_failed_task': Starting task run...\n",
      "[2021-09-18 19:19:48+0900] INFO - prefect.TaskRunner | Task 'some_failed_task': Finished task run for task with final state: 'TriggerFailed'\n",
      "[2021-09-18 19:19:48+0900] INFO - prefect.TaskRunner | Task 'all_failed_task': Starting task run...\n",
      "[2021-09-18 19:19:48+0900] INFO - prefect.TaskRunner | Task 'all_failed_task': Finished task run for task with final state: 'TriggerFailed'\n",
      "[2021-09-18 19:19:48+0900] INFO - prefect.TaskRunner | Task 'any_successful_task': Starting task run...\n",
      "⭕️　task: any_successful_task\n",
      "[2021-09-18 19:19:48+0900] INFO - prefect.TaskRunner | Task 'any_successful_task': Finished task run for task with final state: 'Success'\n",
      "[2021-09-18 19:19:49+0900] INFO - prefect.TaskRunner | Task 'any_failed_task': Starting task run...\n",
      "❌　task: any_failed_task\n",
      "[2021-09-18 19:19:49+0900] INFO - prefect.TaskRunner | Task 'any_failed_task': Finished task run for task with final state: 'Success'\n",
      "[2021-09-18 19:19:49+0900] INFO - prefect.TaskRunner | Task 'some_successful_task': Starting task run...\n",
      "⭕️　task: some_successful_task\n",
      "[2021-09-18 19:19:49+0900] INFO - prefect.TaskRunner | Task 'some_successful_task': Finished task run for task with final state: 'Success'\n",
      "[2021-09-18 19:19:49+0900] INFO - prefect.FlowRunner | Flow run FAILED: some reference tasks failed.\n"
     ]
    },
    {
     "output_type": "execute_result",
     "data": {
      "text/plain": [
       "<graphviz.dot.Digraph at 0x111756640>"
      ],
      "image/svg+xml": "<?xml version=\"1.0\" encoding=\"UTF-8\" standalone=\"no\"?>\n<!DOCTYPE svg PUBLIC \"-//W3C//DTD SVG 1.1//EN\"\n \"http://www.w3.org/Graphics/SVG/1.1/DTD/svg11.dtd\">\n<!-- Generated by graphviz version 2.49.0 (20210828.1703)\n -->\n<!-- Pages: 1 -->\n<svg width=\"1024pt\" height=\"116pt\"\n viewBox=\"0.00 0.00 1024.44 116.00\" xmlns=\"http://www.w3.org/2000/svg\" xmlns:xlink=\"http://www.w3.org/1999/xlink\">\n<g id=\"graph0\" class=\"graph\" transform=\"scale(1 1) rotate(0) translate(4 112)\">\n<polygon fill=\"white\" stroke=\"transparent\" points=\"-4,4 -4,-112 1020.44,-112 1020.44,4 -4,4\"/>\n<!-- 4587808416 -->\n<g id=\"node1\" class=\"node\">\n<title>4587808416</title>\n<ellipse fill=\"#eb0000\" fill-opacity=\"0.501961\" stroke=\"#eb0000\" stroke-opacity=\"0.501961\" cx=\"763.34\" cy=\"-90\" rx=\"50.89\" ry=\"18\"/>\n<text text-anchor=\"middle\" x=\"763.34\" y=\"-86.3\" font-family=\"Times,serif\" font-size=\"14.00\">failed_task</text>\n</g>\n<!-- 4587809472 -->\n<g id=\"node4\" class=\"node\">\n<title>4587809472</title>\n<ellipse fill=\"#ff5131\" fill-opacity=\"0.501961\" stroke=\"#ff5131\" stroke-opacity=\"0.501961\" cx=\"64.34\" cy=\"-18\" rx=\"64.19\" ry=\"18\"/>\n<text text-anchor=\"middle\" x=\"64.34\" y=\"-14.3\" font-family=\"Times,serif\" font-size=\"14.00\">all_failed_task</text>\n</g>\n<!-- 4587808416&#45;&gt;4587809472 -->\n<g id=\"edge17\" class=\"edge\">\n<title>4587808416&#45;&gt;4587809472</title>\n<path fill=\"none\" stroke=\"black\" d=\"M727.12,-77.23C719.66,-75.18 711.8,-73.3 704.34,-72 455.56,-28.79 387.16,-72.76 137.34,-36 131.57,-35.15 125.58,-34.08 119.63,-32.88\"/>\n<polygon fill=\"black\" stroke=\"black\" points=\"120.19,-29.43 109.68,-30.78 118.74,-36.27 120.19,-29.43\"/>\n</g>\n<!-- 4587806880 -->\n<g id=\"node5\" class=\"node\">\n<title>4587806880</title>\n<ellipse fill=\"#28a745\" fill-opacity=\"0.501961\" stroke=\"#28a745\" stroke-opacity=\"0.501961\" cx=\"231.34\" cy=\"-18\" rx=\"85.29\" ry=\"18\"/>\n<text text-anchor=\"middle\" x=\"231.34\" y=\"-14.3\" font-family=\"Times,serif\" font-size=\"14.00\">any_successful_task</text>\n</g>\n<!-- 4587808416&#45;&gt;4587806880 -->\n<g id=\"edge27\" class=\"edge\">\n<title>4587808416&#45;&gt;4587806880</title>\n<path fill=\"none\" stroke=\"black\" d=\"M727.09,-77.41C719.63,-75.35 711.78,-73.41 704.34,-72 538.11,-40.44 492.97,-59.08 325.34,-36 317.72,-34.95 309.77,-33.72 301.87,-32.42\"/>\n<polygon fill=\"black\" stroke=\"black\" points=\"302.35,-28.95 291.9,-30.73 301.18,-35.85 302.35,-28.95\"/>\n</g>\n<!-- 4587748128 -->\n<g id=\"node6\" class=\"node\">\n<title>4587748128</title>\n<ellipse fill=\"#28a745\" fill-opacity=\"0.501961\" stroke=\"#28a745\" stroke-opacity=\"0.501961\" cx=\"402.34\" cy=\"-18\" rx=\"68.49\" ry=\"18\"/>\n<text text-anchor=\"middle\" x=\"402.34\" y=\"-14.3\" font-family=\"Times,serif\" font-size=\"14.00\">any_failed_task</text>\n</g>\n<!-- 4587808416&#45;&gt;4587748128 -->\n<g id=\"edge15\" class=\"edge\">\n<title>4587808416&#45;&gt;4587748128</title>\n<path fill=\"none\" stroke=\"black\" d=\"M726.38,-77.6C719.12,-75.58 711.52,-73.6 704.34,-72 605.5,-49.94 578.83,-54.92 479.34,-36 473.66,-34.92 467.75,-33.73 461.85,-32.5\"/>\n<polygon fill=\"black\" stroke=\"black\" points=\"462.47,-29.05 451.96,-30.4 461.02,-35.9 462.47,-29.05\"/>\n</g>\n<!-- 4587620384 -->\n<g id=\"node7\" class=\"node\">\n<title>4587620384</title>\n<ellipse fill=\"#28a745\" fill-opacity=\"0.501961\" stroke=\"#28a745\" stroke-opacity=\"0.501961\" cx=\"579.34\" cy=\"-18\" rx=\"90.98\" ry=\"18\"/>\n<text text-anchor=\"middle\" x=\"579.34\" y=\"-14.3\" font-family=\"Times,serif\" font-size=\"14.00\">some_successful_task</text>\n</g>\n<!-- 4587808416&#45;&gt;4587620384 -->\n<g id=\"edge28\" class=\"edge\">\n<title>4587808416&#45;&gt;4587620384</title>\n<path fill=\"none\" stroke=\"black\" d=\"M730.02,-76.32C701.87,-65.61 661.13,-50.11 629.11,-37.93\"/>\n<polygon fill=\"black\" stroke=\"black\" points=\"630.06,-34.55 619.47,-34.27 627.57,-41.09 630.06,-34.55\"/>\n</g>\n<!-- 4587807024 -->\n<g id=\"node10\" class=\"node\">\n<title>4587807024</title>\n<ellipse fill=\"#ff5131\" fill-opacity=\"0.501961\" stroke=\"#ff5131\" stroke-opacity=\"0.501961\" cx=\"769.34\" cy=\"-18\" rx=\"81.49\" ry=\"18\"/>\n<text text-anchor=\"middle\" x=\"769.34\" y=\"-14.3\" font-family=\"Times,serif\" font-size=\"14.00\">all_successful_task</text>\n</g>\n<!-- 4587808416&#45;&gt;4587807024 -->\n<g id=\"edge2\" class=\"edge\">\n<title>4587808416&#45;&gt;4587807024</title>\n<path fill=\"none\" stroke=\"black\" d=\"M764.83,-71.7C765.49,-63.98 766.28,-54.71 767.02,-46.11\"/>\n<polygon fill=\"black\" stroke=\"black\" points=\"770.51,-46.37 767.88,-36.1 763.54,-45.77 770.51,-46.37\"/>\n</g>\n<!-- 4587239504 -->\n<g id=\"node11\" class=\"node\">\n<title>4587239504</title>\n<ellipse fill=\"#ff5131\" fill-opacity=\"0.501961\" stroke=\"#ff5131\" stroke-opacity=\"0.501961\" cx=\"942.34\" cy=\"-18\" rx=\"74.19\" ry=\"18\"/>\n<text text-anchor=\"middle\" x=\"942.34\" y=\"-14.3\" font-family=\"Times,serif\" font-size=\"14.00\">some_failed_task</text>\n</g>\n<!-- 4587808416&#45;&gt;4587239504 -->\n<g id=\"edge30\" class=\"edge\">\n<title>4587808416&#45;&gt;4587239504</title>\n<path fill=\"none\" stroke=\"black\" d=\"M796.18,-76.16C824.07,-65.25 864.45,-49.46 895.7,-37.24\"/>\n<polygon fill=\"black\" stroke=\"black\" points=\"897.04,-40.47 905.08,-33.57 894.49,-33.95 897.04,-40.47\"/>\n</g>\n<!-- 4587688480 -->\n<g id=\"node2\" class=\"node\">\n<title>4587688480</title>\n<ellipse fill=\"#28a745\" fill-opacity=\"0.501961\" stroke=\"#28a745\" stroke-opacity=\"0.501961\" cx=\"236.34\" cy=\"-90\" rx=\"67.69\" ry=\"18\"/>\n<text text-anchor=\"middle\" x=\"236.34\" y=\"-86.3\" font-family=\"Times,serif\" font-size=\"14.00\">successful_task</text>\n</g>\n<!-- 4587688480&#45;&gt;4587809472 -->\n<g id=\"edge14\" class=\"edge\">\n<title>4587688480&#45;&gt;4587809472</title>\n<path fill=\"none\" stroke=\"black\" d=\"M200.71,-74.5C174.01,-63.63 137.31,-48.7 108.71,-37.06\"/>\n<polygon fill=\"black\" stroke=\"black\" points=\"109.93,-33.77 99.35,-33.25 107.29,-40.26 109.93,-33.77\"/>\n</g>\n<!-- 4587688480&#45;&gt;4587806880 -->\n<g id=\"edge18\" class=\"edge\">\n<title>4587688480&#45;&gt;4587806880</title>\n<path fill=\"none\" stroke=\"black\" d=\"M235.11,-71.7C234.56,-63.98 233.9,-54.71 233.28,-46.11\"/>\n<polygon fill=\"black\" stroke=\"black\" points=\"236.77,-45.83 232.57,-36.1 229.79,-46.33 236.77,-45.83\"/>\n</g>\n<!-- 4587688480&#45;&gt;4587748128 -->\n<g id=\"edge1\" class=\"edge\">\n<title>4587688480&#45;&gt;4587748128</title>\n<path fill=\"none\" stroke=\"black\" d=\"M270.74,-74.5C296.14,-63.79 330.92,-49.12 358.34,-37.56\"/>\n<polygon fill=\"black\" stroke=\"black\" points=\"359.85,-40.72 367.71,-33.61 357.13,-34.27 359.85,-40.72\"/>\n</g>\n<!-- 4587688480&#45;&gt;4587620384 -->\n<g id=\"edge20\" class=\"edge\">\n<title>4587688480&#45;&gt;4587620384</title>\n<path fill=\"none\" stroke=\"black\" d=\"M286.18,-77.67C294.89,-75.74 303.88,-73.79 312.34,-72 377.83,-58.18 452.57,-43.43 506.29,-33.01\"/>\n<polygon fill=\"black\" stroke=\"black\" points=\"507.26,-36.39 516.41,-31.05 505.93,-29.51 507.26,-36.39\"/>\n</g>\n<!-- 4587688480&#45;&gt;4587807024 -->\n<g id=\"edge5\" class=\"edge\">\n<title>4587688480&#45;&gt;4587807024</title>\n<path fill=\"none\" stroke=\"black\" d=\"M284.42,-77.32C293.65,-75.34 303.27,-73.45 312.34,-72 474.17,-46.06 517.11,-59.23 679.34,-36 686.49,-34.98 693.92,-33.78 701.33,-32.51\"/>\n<polygon fill=\"black\" stroke=\"black\" points=\"702.14,-35.92 711.37,-30.73 700.92,-29.03 702.14,-35.92\"/>\n</g>\n<!-- 4587688480&#45;&gt;4587239504 -->\n<g id=\"edge8\" class=\"edge\">\n<title>4587688480&#45;&gt;4587239504</title>\n<path fill=\"none\" stroke=\"black\" d=\"M283.98,-77.17C293.33,-75.18 303.11,-73.33 312.34,-72 553.5,-37.3 617.89,-68.52 859.34,-36 866,-35.1 872.93,-33.98 879.82,-32.75\"/>\n<polygon fill=\"black\" stroke=\"black\" points=\"880.65,-36.16 889.84,-30.88 879.37,-29.28 880.65,-36.16\"/>\n</g>\n<!-- 4587810624 -->\n<g id=\"node3\" class=\"node\">\n<title>4587810624</title>\n<ellipse fill=\"#eb0000\" fill-opacity=\"0.501961\" stroke=\"#eb0000\" stroke-opacity=\"0.501961\" cx=\"372.34\" cy=\"-90\" rx=\"50.89\" ry=\"18\"/>\n<text text-anchor=\"middle\" x=\"372.34\" y=\"-86.3\" font-family=\"Times,serif\" font-size=\"14.00\">failed_task</text>\n</g>\n<!-- 4587810624&#45;&gt;4587809472 -->\n<g id=\"edge6\" class=\"edge\">\n<title>4587810624&#45;&gt;4587809472</title>\n<path fill=\"none\" stroke=\"black\" d=\"M335.01,-77.76C327.85,-75.74 320.38,-73.73 313.34,-72 235.81,-52.93 215.34,-53.06 137.34,-36 132.31,-34.9 127.08,-33.73 121.85,-32.54\"/>\n<polygon fill=\"black\" stroke=\"black\" points=\"122.35,-29.07 111.82,-30.25 120.79,-35.89 122.35,-29.07\"/>\n</g>\n<!-- 4587810624&#45;&gt;4587806880 -->\n<g id=\"edge7\" class=\"edge\">\n<title>4587810624&#45;&gt;4587806880</title>\n<path fill=\"none\" stroke=\"black\" d=\"M344.15,-75C323.6,-64.8 295.43,-50.81 272.38,-39.37\"/>\n<polygon fill=\"black\" stroke=\"black\" points=\"273.69,-36.12 263.18,-34.81 270.58,-42.39 273.69,-36.12\"/>\n</g>\n<!-- 4587810624&#45;&gt;4587748128 -->\n<g id=\"edge3\" class=\"edge\">\n<title>4587810624&#45;&gt;4587748128</title>\n<path fill=\"none\" stroke=\"black\" d=\"M379.61,-72.05C383.02,-64.09 387.17,-54.41 390.98,-45.51\"/>\n<polygon fill=\"black\" stroke=\"black\" points=\"394.22,-46.85 394.94,-36.28 387.78,-44.09 394.22,-46.85\"/>\n</g>\n<!-- 4587810624&#45;&gt;4587620384 -->\n<g id=\"edge24\" class=\"edge\">\n<title>4587810624&#45;&gt;4587620384</title>\n<path fill=\"none\" stroke=\"black\" d=\"M407.93,-76.97C440.4,-65.99 488.84,-49.61 525.95,-37.06\"/>\n<polygon fill=\"black\" stroke=\"black\" points=\"527.25,-40.31 535.61,-33.79 525.01,-33.68 527.25,-40.31\"/>\n</g>\n<!-- 4587810624&#45;&gt;4587807024 -->\n<g id=\"edge9\" class=\"edge\">\n<title>4587810624&#45;&gt;4587807024</title>\n<path fill=\"none\" stroke=\"black\" d=\"M409.29,-77.52C416.55,-75.5 424.15,-73.55 431.34,-72 540.22,-48.53 569.49,-54.34 679.34,-36 686.09,-34.87 693.11,-33.65 700.12,-32.38\"/>\n<polygon fill=\"black\" stroke=\"black\" points=\"701.14,-35.76 710.35,-30.52 699.88,-28.87 701.14,-35.76\"/>\n</g>\n<!-- 4587810624&#45;&gt;4587239504 -->\n<g id=\"edge22\" class=\"edge\">\n<title>4587810624&#45;&gt;4587239504</title>\n<path fill=\"none\" stroke=\"black\" d=\"M408.59,-77.35C416.05,-75.29 423.9,-73.37 431.34,-72 619.08,-37.41 670.4,-63.2 859.34,-36 866,-35.04 872.92,-33.89 879.8,-32.63\"/>\n<polygon fill=\"black\" stroke=\"black\" points=\"880.64,-36.03 889.82,-30.73 879.34,-29.15 880.64,-36.03\"/>\n</g>\n<!-- 4501394288 -->\n<g id=\"node8\" class=\"node\">\n<title>4501394288</title>\n<ellipse fill=\"#28a745\" fill-opacity=\"0.501961\" stroke=\"#28a745\" stroke-opacity=\"0.501961\" cx=\"508.34\" cy=\"-90\" rx=\"67.69\" ry=\"18\"/>\n<text text-anchor=\"middle\" x=\"508.34\" y=\"-86.3\" font-family=\"Times,serif\" font-size=\"14.00\">successful_task</text>\n</g>\n<!-- 4501394288&#45;&gt;4587809472 -->\n<g id=\"edge4\" class=\"edge\">\n<title>4501394288&#45;&gt;4587809472</title>\n<path fill=\"none\" stroke=\"black\" d=\"M459.83,-77.4C450.73,-75.44 441.27,-73.54 432.34,-72 302.18,-49.56 267.41,-59.01 137.34,-36 131.9,-35.04 126.25,-33.92 120.61,-32.74\"/>\n<polygon fill=\"black\" stroke=\"black\" points=\"121.05,-29.25 110.53,-30.54 119.56,-36.09 121.05,-29.25\"/>\n</g>\n<!-- 4501394288&#45;&gt;4587806880 -->\n<g id=\"edge19\" class=\"edge\">\n<title>4501394288&#45;&gt;4587806880</title>\n<path fill=\"none\" stroke=\"black\" d=\"M461.04,-77.05C414.83,-65.37 344.24,-47.53 293.51,-34.71\"/>\n<polygon fill=\"black\" stroke=\"black\" points=\"294.19,-31.27 283.64,-32.22 292.48,-38.06 294.19,-31.27\"/>\n</g>\n<!-- 4501394288&#45;&gt;4587748128 -->\n<g id=\"edge16\" class=\"edge\">\n<title>4501394288&#45;&gt;4587748128</title>\n<path fill=\"none\" stroke=\"black\" d=\"M484.29,-73.12C469.76,-63.52 451.03,-51.15 435.15,-40.67\"/>\n<polygon fill=\"black\" stroke=\"black\" points=\"436.94,-37.65 426.67,-35.06 433.08,-43.49 436.94,-37.65\"/>\n</g>\n<!-- 4501394288&#45;&gt;4587620384 -->\n<g id=\"edge25\" class=\"edge\">\n<title>4501394288&#45;&gt;4587620384</title>\n<path fill=\"none\" stroke=\"black\" d=\"M525.17,-72.41C534.06,-63.65 545.13,-52.73 554.94,-43.06\"/>\n<polygon fill=\"black\" stroke=\"black\" points=\"557.48,-45.47 562.15,-35.96 552.57,-40.48 557.48,-45.47\"/>\n</g>\n<!-- 4501394288&#45;&gt;4587807024 -->\n<g id=\"edge10\" class=\"edge\">\n<title>4501394288&#45;&gt;4587807024</title>\n<path fill=\"none\" stroke=\"black\" d=\"M554.11,-76.73C597.37,-65.12 662.54,-47.65 709.82,-34.96\"/>\n<polygon fill=\"black\" stroke=\"black\" points=\"710.88,-38.3 719.63,-32.33 709.06,-31.54 710.88,-38.3\"/>\n</g>\n<!-- 4501394288&#45;&gt;4587239504 -->\n<g id=\"edge11\" class=\"edge\">\n<title>4501394288&#45;&gt;4587239504</title>\n<path fill=\"none\" stroke=\"black\" d=\"M556.87,-77.46C565.97,-75.49 575.42,-73.58 584.34,-72 705.72,-50.52 737.78,-56.38 859.34,-36 865.63,-34.95 872.16,-33.76 878.68,-32.52\"/>\n<polygon fill=\"black\" stroke=\"black\" points=\"879.72,-35.89 888.87,-30.54 878.39,-29.01 879.72,-35.89\"/>\n</g>\n<!-- 4587810480 -->\n<g id=\"node9\" class=\"node\">\n<title>4587810480</title>\n<ellipse fill=\"#eb0000\" fill-opacity=\"0.501961\" stroke=\"#eb0000\" stroke-opacity=\"0.501961\" cx=\"644.34\" cy=\"-90\" rx=\"50.89\" ry=\"18\"/>\n<text text-anchor=\"middle\" x=\"644.34\" y=\"-86.3\" font-family=\"Times,serif\" font-size=\"14.00\">failed_task</text>\n</g>\n<!-- 4587810480&#45;&gt;4587809472 -->\n<g id=\"edge12\" class=\"edge\">\n<title>4587810480&#45;&gt;4587809472</title>\n<path fill=\"none\" stroke=\"black\" d=\"M608.11,-77.32C600.64,-75.27 592.79,-73.36 585.34,-72 388.83,-36.17 334.72,-66.74 137.34,-36 131.66,-35.11 125.76,-34.03 119.9,-32.84\"/>\n<polygon fill=\"black\" stroke=\"black\" points=\"120.6,-29.41 110.09,-30.75 119.14,-36.26 120.6,-29.41\"/>\n</g>\n<!-- 4587810480&#45;&gt;4587806880 -->\n<g id=\"edge23\" class=\"edge\">\n<title>4587810480&#45;&gt;4587806880</title>\n<path fill=\"none\" stroke=\"black\" d=\"M607.41,-77.48C600.14,-75.47 592.54,-73.53 585.34,-72 471.23,-47.79 440.54,-54.38 325.34,-36 318,-34.83 310.34,-33.54 302.71,-32.23\"/>\n<polygon fill=\"black\" stroke=\"black\" points=\"303.17,-28.75 292.72,-30.48 301.96,-35.65 303.17,-28.75\"/>\n</g>\n<!-- 4587810480&#45;&gt;4587748128 -->\n<g id=\"edge21\" class=\"edge\">\n<title>4587810480&#45;&gt;4587748128</title>\n<path fill=\"none\" stroke=\"black\" d=\"M606.27,-77.99C565.96,-66.33 502.01,-47.83 456.48,-34.66\"/>\n<polygon fill=\"black\" stroke=\"black\" points=\"457.35,-31.27 446.77,-31.85 455.4,-37.99 457.35,-31.27\"/>\n</g>\n<!-- 4587810480&#45;&gt;4587620384 -->\n<g id=\"edge13\" class=\"edge\">\n<title>4587810480&#45;&gt;4587620384</title>\n<path fill=\"none\" stroke=\"black\" d=\"M629.27,-72.76C621.22,-64.1 611.15,-53.25 602.16,-43.57\"/>\n<polygon fill=\"black\" stroke=\"black\" points=\"604.61,-41.07 595.25,-36.12 599.48,-45.83 604.61,-41.07\"/>\n</g>\n<!-- 4587810480&#45;&gt;4587807024 -->\n<g id=\"edge26\" class=\"edge\">\n<title>4587810480&#45;&gt;4587807024</title>\n<path fill=\"none\" stroke=\"black\" d=\"M670.24,-74.5C688.1,-64.49 712.12,-51.05 732.04,-39.89\"/>\n<polygon fill=\"black\" stroke=\"black\" points=\"733.85,-42.89 740.86,-34.95 730.43,-36.78 733.85,-42.89\"/>\n</g>\n<!-- 4587810480&#45;&gt;4587239504 -->\n<g id=\"edge29\" class=\"edge\">\n<title>4587810480&#45;&gt;4587239504</title>\n<path fill=\"none\" stroke=\"black\" d=\"M682.02,-77.77C689.08,-75.77 696.42,-73.76 703.34,-72 761.98,-57.07 829.32,-42.35 877.54,-32.23\"/>\n<polygon fill=\"black\" stroke=\"black\" points=\"878.46,-35.61 887.53,-30.14 877.03,-28.76 878.46,-35.61\"/>\n</g>\n</g>\n</svg>\n"
     },
     "metadata": {},
     "execution_count": 6
    }
   ],
   "metadata": {}
  },
  {
   "cell_type": "code",
   "execution_count": 7,
   "source": [
    "# upstream taskの3つが成功し2つが失敗する場合のFlow\n",
    "with Flow(\"three_successful_two_failed\") as three_successful_two_failed:\n",
    "    s1 = successful_task()\n",
    "    s2 = successful_task()\n",
    "    s3 = successful_task()\n",
    "    f1 = failed_task()\n",
    "    f2 = failed_task()\n",
    "    upstream_tasks = [s1, s2, s3, f1, f2]\n",
    "    all_s = all_successful_task(upstream_tasks=upstream_tasks)\n",
    "    all_f = all_failed_task(upstream_tasks=upstream_tasks)\n",
    "    any_s = any_successful_task(upstream_tasks=upstream_tasks)\n",
    "    any_f = any_failed_task(upstream_tasks=upstream_tasks)\n",
    "    some_s = some_successful_task(upstream_tasks=upstream_tasks)\n",
    "    some_f = some_failed_task(upstream_tasks=upstream_tasks)\n",
    "\n",
    "print(\"🏃‍♂️💨💨💨💨💨💨💨💨 RUN: flow_three_successful_two_failed\")\n",
    "three_successful_two_failed_state = three_successful_two_failed.run()\n",
    "three_successful_two_failed.visualize(flow_state=three_successful_two_failed_state)"
   ],
   "outputs": [
    {
     "output_type": "stream",
     "name": "stdout",
     "text": [
      "🏃‍♂️💨💨💨💨💨💨💨💨 RUN: flow_three_successful_two_failed\n",
      "[2021-09-18 19:19:49+0900] INFO - prefect.FlowRunner | Beginning Flow run for 'three_successful_two_failed'\n",
      "[2021-09-18 19:19:49+0900] INFO - prefect.TaskRunner | Task 'successful_task': Starting task run...\n",
      "[2021-09-18 19:19:49+0900] INFO - prefect.TaskRunner | Task 'successful_task': Finished task run for task with final state: 'Success'\n",
      "[2021-09-18 19:19:49+0900] INFO - prefect.TaskRunner | Task 'failed_task': Starting task run...\n",
      "[2021-09-18 19:19:49+0900] ERROR - prefect.TaskRunner | Task 'failed_task': Exception encountered during task execution!\n",
      "Traceback (most recent call last):\n",
      "  File \"/Users/ryoasu/Library/Caches/pypoetry/virtualenvs/try-prefect-T2Jmh4JG-py3.9/lib/python3.9/site-packages/prefect/engine/task_runner.py\", line 859, in get_task_run_state\n",
      "    value = prefect.utilities.executors.run_task_with_timeout(\n",
      "  File \"/Users/ryoasu/Library/Caches/pypoetry/virtualenvs/try-prefect-T2Jmh4JG-py3.9/lib/python3.9/site-packages/prefect/utilities/executors.py\", line 445, in run_task_with_timeout\n",
      "    return task.run(*args, **kwargs)  # type: ignore\n",
      "  File \"/var/folders/6b/t3v4fdjs7gq6j0rw2gcb0s7r0000gn/T/ipykernel_75086/3956158869.py\", line 8, in failed_task\n",
      "    raise Exception(\"failed_1\")\n",
      "Exception: failed_1\n",
      "[2021-09-18 19:19:49+0900] INFO - prefect.TaskRunner | Task 'failed_task': Finished task run for task with final state: 'Failed'\n",
      "[2021-09-18 19:19:49+0900] INFO - prefect.TaskRunner | Task 'successful_task': Starting task run...\n",
      "[2021-09-18 19:19:49+0900] INFO - prefect.TaskRunner | Task 'successful_task': Finished task run for task with final state: 'Success'\n",
      "[2021-09-18 19:19:49+0900] INFO - prefect.TaskRunner | Task 'failed_task': Starting task run...\n",
      "[2021-09-18 19:19:49+0900] ERROR - prefect.TaskRunner | Task 'failed_task': Exception encountered during task execution!\n",
      "Traceback (most recent call last):\n",
      "  File \"/Users/ryoasu/Library/Caches/pypoetry/virtualenvs/try-prefect-T2Jmh4JG-py3.9/lib/python3.9/site-packages/prefect/engine/task_runner.py\", line 859, in get_task_run_state\n",
      "    value = prefect.utilities.executors.run_task_with_timeout(\n",
      "  File \"/Users/ryoasu/Library/Caches/pypoetry/virtualenvs/try-prefect-T2Jmh4JG-py3.9/lib/python3.9/site-packages/prefect/utilities/executors.py\", line 445, in run_task_with_timeout\n",
      "    return task.run(*args, **kwargs)  # type: ignore\n",
      "  File \"/var/folders/6b/t3v4fdjs7gq6j0rw2gcb0s7r0000gn/T/ipykernel_75086/3956158869.py\", line 8, in failed_task\n",
      "    raise Exception(\"failed_1\")\n",
      "Exception: failed_1\n",
      "[2021-09-18 19:19:49+0900] INFO - prefect.TaskRunner | Task 'failed_task': Finished task run for task with final state: 'Failed'\n",
      "[2021-09-18 19:19:49+0900] INFO - prefect.TaskRunner | Task 'successful_task': Starting task run...\n",
      "[2021-09-18 19:19:49+0900] INFO - prefect.TaskRunner | Task 'successful_task': Finished task run for task with final state: 'Success'\n",
      "[2021-09-18 19:19:49+0900] INFO - prefect.TaskRunner | Task 'all_failed_task': Starting task run...\n",
      "[2021-09-18 19:19:49+0900] INFO - prefect.TaskRunner | Task 'all_failed_task': Finished task run for task with final state: 'TriggerFailed'\n",
      "[2021-09-18 19:19:49+0900] INFO - prefect.TaskRunner | Task 'all_successful_task': Starting task run...\n",
      "[2021-09-18 19:19:49+0900] INFO - prefect.TaskRunner | Task 'all_successful_task': Finished task run for task with final state: 'TriggerFailed'\n",
      "[2021-09-18 19:19:49+0900] INFO - prefect.TaskRunner | Task 'any_successful_task': Starting task run...\n",
      "⭕️　task: any_successful_task\n",
      "[2021-09-18 19:19:49+0900] INFO - prefect.TaskRunner | Task 'any_successful_task': Finished task run for task with final state: 'Success'\n",
      "[2021-09-18 19:19:49+0900] INFO - prefect.TaskRunner | Task 'any_failed_task': Starting task run...\n",
      "❌　task: any_failed_task\n",
      "[2021-09-18 19:19:49+0900] INFO - prefect.TaskRunner | Task 'any_failed_task': Finished task run for task with final state: 'Success'\n",
      "[2021-09-18 19:19:49+0900] INFO - prefect.TaskRunner | Task 'some_successful_task': Starting task run...\n",
      "[2021-09-18 19:19:49+0900] INFO - prefect.TaskRunner | Task 'some_successful_task': Finished task run for task with final state: 'TriggerFailed'\n",
      "[2021-09-18 19:19:49+0900] INFO - prefect.TaskRunner | Task 'some_failed_task': Starting task run...\n",
      "❌　task: some_failed_task\n",
      "[2021-09-18 19:19:49+0900] INFO - prefect.TaskRunner | Task 'some_failed_task': Finished task run for task with final state: 'Success'\n",
      "[2021-09-18 19:19:50+0900] INFO - prefect.FlowRunner | Flow run FAILED: some reference tasks failed.\n"
     ]
    },
    {
     "output_type": "execute_result",
     "data": {
      "text/plain": [
       "<graphviz.dot.Digraph at 0x1116a3d90>"
      ],
      "image/svg+xml": "<?xml version=\"1.0\" encoding=\"UTF-8\" standalone=\"no\"?>\n<!DOCTYPE svg PUBLIC \"-//W3C//DTD SVG 1.1//EN\"\n \"http://www.w3.org/Graphics/SVG/1.1/DTD/svg11.dtd\">\n<!-- Generated by graphviz version 2.49.0 (20210828.1703)\n -->\n<!-- Pages: 1 -->\n<svg width=\"1025pt\" height=\"116pt\"\n viewBox=\"0.00 0.00 1024.59 116.00\" xmlns=\"http://www.w3.org/2000/svg\" xmlns:xlink=\"http://www.w3.org/1999/xlink\">\n<g id=\"graph0\" class=\"graph\" transform=\"scale(1 1) rotate(0) translate(4 112)\">\n<polygon fill=\"white\" stroke=\"transparent\" points=\"-4,4 -4,-112 1020.59,-112 1020.59,4 -4,4\"/>\n<!-- 4588023520 -->\n<g id=\"node1\" class=\"node\">\n<title>4588023520</title>\n<ellipse fill=\"#28a745\" fill-opacity=\"0.501961\" stroke=\"#28a745\" stroke-opacity=\"0.501961\" cx=\"811.24\" cy=\"-90\" rx=\"67.69\" ry=\"18\"/>\n<text text-anchor=\"middle\" x=\"811.24\" y=\"-86.3\" font-family=\"Times,serif\" font-size=\"14.00\">successful_task</text>\n</g>\n<!-- 4588076576 -->\n<g id=\"node3\" class=\"node\">\n<title>4588076576</title>\n<ellipse fill=\"#ff5131\" fill-opacity=\"0.501961\" stroke=\"#ff5131\" stroke-opacity=\"0.501961\" cx=\"81.24\" cy=\"-18\" rx=\"81.49\" ry=\"18\"/>\n<text text-anchor=\"middle\" x=\"81.24\" y=\"-14.3\" font-family=\"Times,serif\" font-size=\"14.00\">all_successful_task</text>\n</g>\n<!-- 4588023520&#45;&gt;4588076576 -->\n<g id=\"edge14\" class=\"edge\">\n<title>4588023520&#45;&gt;4588076576</title>\n<path fill=\"none\" stroke=\"black\" d=\"M763.61,-77.15C754.26,-75.16 744.48,-73.32 735.24,-72 486.59,-36.48 420.45,-67.37 171.24,-36 163.78,-35.06 156.01,-33.89 148.29,-32.6\"/>\n<polygon fill=\"black\" stroke=\"black\" points=\"148.66,-29.11 138.21,-30.85 147.46,-36.01 148.66,-29.11\"/>\n</g>\n<!-- 4587691744 -->\n<g id=\"node4\" class=\"node\">\n<title>4587691744</title>\n<ellipse fill=\"#28a745\" fill-opacity=\"0.501961\" stroke=\"#28a745\" stroke-opacity=\"0.501961\" cx=\"265.24\" cy=\"-18\" rx=\"85.29\" ry=\"18\"/>\n<text text-anchor=\"middle\" x=\"265.24\" y=\"-14.3\" font-family=\"Times,serif\" font-size=\"14.00\">any_successful_task</text>\n</g>\n<!-- 4588023520&#45;&gt;4587691744 -->\n<g id=\"edge27\" class=\"edge\">\n<title>4588023520&#45;&gt;4587691744</title>\n<path fill=\"none\" stroke=\"black\" d=\"M763.17,-77.3C753.94,-75.32 744.32,-73.44 735.24,-72 569.45,-45.63 525.54,-58.96 359.24,-36 351.62,-34.95 343.67,-33.72 335.77,-32.41\"/>\n<polygon fill=\"black\" stroke=\"black\" points=\"336.25,-28.94 325.8,-30.72 335.08,-35.84 336.25,-28.94\"/>\n</g>\n<!-- 4587691168 -->\n<g id=\"node5\" class=\"node\">\n<title>4587691168</title>\n<ellipse fill=\"#28a745\" fill-opacity=\"0.501961\" stroke=\"#28a745\" stroke-opacity=\"0.501961\" cx=\"436.24\" cy=\"-18\" rx=\"68.49\" ry=\"18\"/>\n<text text-anchor=\"middle\" x=\"436.24\" y=\"-14.3\" font-family=\"Times,serif\" font-size=\"14.00\">any_failed_task</text>\n</g>\n<!-- 4588023520&#45;&gt;4587691168 -->\n<g id=\"edge26\" class=\"edge\">\n<title>4588023520&#45;&gt;4587691168</title>\n<path fill=\"none\" stroke=\"black\" d=\"M761.86,-77.51C753.02,-75.58 743.87,-73.66 735.24,-72 637.09,-53.08 611.42,-54.78 513.24,-36 507.56,-34.91 501.65,-33.72 495.75,-32.49\"/>\n<polygon fill=\"black\" stroke=\"black\" points=\"496.37,-29.04 485.86,-30.39 494.92,-35.89 496.37,-29.04\"/>\n</g>\n<!-- 4587689536 -->\n<g id=\"node6\" class=\"node\">\n<title>4587689536</title>\n<ellipse fill=\"#ff5131\" fill-opacity=\"0.501961\" stroke=\"#ff5131\" stroke-opacity=\"0.501961\" cx=\"613.24\" cy=\"-18\" rx=\"90.98\" ry=\"18\"/>\n<text text-anchor=\"middle\" x=\"613.24\" y=\"-14.3\" font-family=\"Times,serif\" font-size=\"14.00\">some_successful_task</text>\n</g>\n<!-- 4588023520&#45;&gt;4587689536 -->\n<g id=\"edge12\" class=\"edge\">\n<title>4588023520&#45;&gt;4587689536</title>\n<path fill=\"none\" stroke=\"black\" d=\"M772.12,-75.17C741.56,-64.36 698.79,-49.24 665.32,-37.41\"/>\n<polygon fill=\"black\" stroke=\"black\" points=\"666.3,-34.05 655.71,-34.01 663.97,-40.65 666.3,-34.05\"/>\n</g>\n<!-- 4588106656 -->\n<g id=\"node7\" class=\"node\">\n<title>4588106656</title>\n<ellipse fill=\"#28a745\" fill-opacity=\"0.501961\" stroke=\"#28a745\" stroke-opacity=\"0.501961\" cx=\"796.24\" cy=\"-18\" rx=\"74.19\" ry=\"18\"/>\n<text text-anchor=\"middle\" x=\"796.24\" y=\"-14.3\" font-family=\"Times,serif\" font-size=\"14.00\">some_failed_task</text>\n</g>\n<!-- 4588023520&#45;&gt;4588106656 -->\n<g id=\"edge13\" class=\"edge\">\n<title>4588023520&#45;&gt;4588106656</title>\n<path fill=\"none\" stroke=\"black\" d=\"M807.53,-71.7C805.88,-63.98 803.9,-54.71 802.05,-46.11\"/>\n<polygon fill=\"black\" stroke=\"black\" points=\"805.43,-45.15 799.91,-36.1 798.58,-46.62 805.43,-45.15\"/>\n</g>\n<!-- 4588076720 -->\n<g id=\"node11\" class=\"node\">\n<title>4588076720</title>\n<ellipse fill=\"#ff5131\" fill-opacity=\"0.501961\" stroke=\"#ff5131\" stroke-opacity=\"0.501961\" cx=\"952.24\" cy=\"-18\" rx=\"64.19\" ry=\"18\"/>\n<text text-anchor=\"middle\" x=\"952.24\" y=\"-14.3\" font-family=\"Times,serif\" font-size=\"14.00\">all_failed_task</text>\n</g>\n<!-- 4588023520&#45;&gt;4588076720 -->\n<g id=\"edge29\" class=\"edge\">\n<title>4588023520&#45;&gt;4588076720</title>\n<path fill=\"none\" stroke=\"black\" d=\"M841.84,-73.81C862.77,-63.42 890.69,-49.56 913.22,-38.37\"/>\n<polygon fill=\"black\" stroke=\"black\" points=\"914.79,-41.5 922.19,-33.92 911.68,-35.23 914.79,-41.5\"/>\n</g>\n<!-- 4588076000 -->\n<g id=\"node2\" class=\"node\">\n<title>4588076000</title>\n<ellipse fill=\"#eb0000\" fill-opacity=\"0.501961\" stroke=\"#eb0000\" stroke-opacity=\"0.501961\" cx=\"250.24\" cy=\"-90\" rx=\"50.89\" ry=\"18\"/>\n<text text-anchor=\"middle\" x=\"250.24\" y=\"-86.3\" font-family=\"Times,serif\" font-size=\"14.00\">failed_task</text>\n</g>\n<!-- 4588076000&#45;&gt;4588076576 -->\n<g id=\"edge3\" class=\"edge\">\n<title>4588076000&#45;&gt;4588076576</title>\n<path fill=\"none\" stroke=\"black\" d=\"M218.46,-75.83C192.77,-65.19 156.27,-50.07 127.37,-38.1\"/>\n<polygon fill=\"black\" stroke=\"black\" points=\"128.46,-34.77 117.88,-34.18 125.78,-41.24 128.46,-34.77\"/>\n</g>\n<!-- 4588076000&#45;&gt;4587691744 -->\n<g id=\"edge25\" class=\"edge\">\n<title>4588076000&#45;&gt;4587691744</title>\n<path fill=\"none\" stroke=\"black\" d=\"M253.95,-71.7C255.6,-63.98 257.59,-54.71 259.43,-46.11\"/>\n<polygon fill=\"black\" stroke=\"black\" points=\"262.9,-46.62 261.58,-36.1 256.06,-45.15 262.9,-46.62\"/>\n</g>\n<!-- 4588076000&#45;&gt;4587691168 -->\n<g id=\"edge6\" class=\"edge\">\n<title>4588076000&#45;&gt;4587691168</title>\n<path fill=\"none\" stroke=\"black\" d=\"M283.93,-76.32C313.37,-65.24 356.42,-49.04 389.25,-36.68\"/>\n<polygon fill=\"black\" stroke=\"black\" points=\"390.53,-39.94 398.65,-33.15 388.06,-33.39 390.53,-39.94\"/>\n</g>\n<!-- 4588076000&#45;&gt;4587689536 -->\n<g id=\"edge21\" class=\"edge\">\n<title>4588076000&#45;&gt;4587689536</title>\n<path fill=\"none\" stroke=\"black\" d=\"M287.22,-77.68C294.49,-75.65 302.08,-73.65 309.24,-72 320.32,-69.45 450.41,-46.97 536.79,-32.12\"/>\n<polygon fill=\"black\" stroke=\"black\" points=\"537.57,-35.53 546.83,-30.39 536.38,-28.64 537.57,-35.53\"/>\n</g>\n<!-- 4588076000&#45;&gt;4588106656 -->\n<g id=\"edge22\" class=\"edge\">\n<title>4588076000&#45;&gt;4588106656</title>\n<path fill=\"none\" stroke=\"black\" d=\"M286.49,-77.38C293.95,-75.32 301.8,-73.39 309.24,-72 486.44,-38.89 534.88,-62.13 713.24,-36 719.79,-35.04 726.61,-33.89 733.39,-32.65\"/>\n<polygon fill=\"black\" stroke=\"black\" points=\"734.09,-36.08 743.27,-30.78 732.79,-29.2 734.09,-36.08\"/>\n</g>\n<!-- 4588076000&#45;&gt;4588076720 -->\n<g id=\"edge19\" class=\"edge\">\n<title>4588076000&#45;&gt;4588076720</title>\n<path fill=\"none\" stroke=\"black\" d=\"M286.46,-77.22C293.93,-75.18 301.79,-73.29 309.24,-72 559.34,-28.6 628.1,-72.91 879.24,-36 885.02,-35.15 891.01,-34.08 896.96,-32.89\"/>\n<polygon fill=\"black\" stroke=\"black\" points=\"897.84,-36.28 906.9,-30.78 896.4,-29.43 897.84,-36.28\"/>\n</g>\n<!-- 4588075856 -->\n<g id=\"node8\" class=\"node\">\n<title>4588075856</title>\n<ellipse fill=\"#28a745\" fill-opacity=\"0.501961\" stroke=\"#28a745\" stroke-opacity=\"0.501961\" cx=\"386.24\" cy=\"-90\" rx=\"67.69\" ry=\"18\"/>\n<text text-anchor=\"middle\" x=\"386.24\" y=\"-86.3\" font-family=\"Times,serif\" font-size=\"14.00\">successful_task</text>\n</g>\n<!-- 4588075856&#45;&gt;4588076576 -->\n<g id=\"edge11\" class=\"edge\">\n<title>4588075856&#45;&gt;4588076576</title>\n<path fill=\"none\" stroke=\"black\" d=\"M336.9,-77.68C284.81,-65.72 202.5,-46.83 145.4,-33.72\"/>\n<polygon fill=\"black\" stroke=\"black\" points=\"145.93,-30.26 135.4,-31.43 144.36,-37.08 145.93,-30.26\"/>\n</g>\n<!-- 4588075856&#45;&gt;4587691744 -->\n<g id=\"edge15\" class=\"edge\">\n<title>4588075856&#45;&gt;4587691744</title>\n<path fill=\"none\" stroke=\"black\" d=\"M359.39,-73.46C342.52,-63.7 320.52,-50.98 302.04,-40.29\"/>\n<polygon fill=\"black\" stroke=\"black\" points=\"303.69,-37.2 293.28,-35.22 300.19,-43.26 303.69,-37.2\"/>\n</g>\n<!-- 4588075856&#45;&gt;4587691168 -->\n<g id=\"edge8\" class=\"edge\">\n<title>4588075856&#45;&gt;4587691168</title>\n<path fill=\"none\" stroke=\"black\" d=\"M398.35,-72.05C404.37,-63.63 411.76,-53.28 418.41,-43.97\"/>\n<polygon fill=\"black\" stroke=\"black\" points=\"421.29,-45.96 424.25,-35.79 415.59,-41.89 421.29,-45.96\"/>\n</g>\n<!-- 4588075856&#45;&gt;4587689536 -->\n<g id=\"edge23\" class=\"edge\">\n<title>4588075856&#45;&gt;4587689536</title>\n<path fill=\"none\" stroke=\"black\" d=\"M428.67,-75.92C464.75,-64.79 516.87,-48.72 556.53,-36.49\"/>\n<polygon fill=\"black\" stroke=\"black\" points=\"557.8,-39.76 566.32,-33.47 555.74,-33.07 557.8,-39.76\"/>\n</g>\n<!-- 4588075856&#45;&gt;4588106656 -->\n<g id=\"edge20\" class=\"edge\">\n<title>4588075856&#45;&gt;4588106656</title>\n<path fill=\"none\" stroke=\"black\" d=\"M435.19,-77.47C444.16,-75.52 453.47,-73.61 462.24,-72 573.09,-51.68 602.21,-55.32 713.24,-36 719.42,-34.92 725.85,-33.74 732.27,-32.5\"/>\n<polygon fill=\"black\" stroke=\"black\" points=\"733.17,-35.89 742.31,-30.53 731.82,-29.02 733.17,-35.89\"/>\n</g>\n<!-- 4588075856&#45;&gt;4588076720 -->\n<g id=\"edge17\" class=\"edge\">\n<title>4588075856&#45;&gt;4588076720</title>\n<path fill=\"none\" stroke=\"black\" d=\"M434.3,-77.23C443.53,-75.26 453.16,-73.4 462.24,-72 646.09,-43.63 695.52,-65.17 879.24,-36 884.92,-35.1 890.82,-34 896.69,-32.8\"/>\n<polygon fill=\"black\" stroke=\"black\" points=\"897.44,-36.22 906.49,-30.71 895.98,-29.37 897.44,-36.22\"/>\n</g>\n<!-- 4588076432 -->\n<g id=\"node9\" class=\"node\">\n<title>4588076432</title>\n<ellipse fill=\"#eb0000\" fill-opacity=\"0.501961\" stroke=\"#eb0000\" stroke-opacity=\"0.501961\" cx=\"522.24\" cy=\"-90\" rx=\"50.89\" ry=\"18\"/>\n<text text-anchor=\"middle\" x=\"522.24\" y=\"-86.3\" font-family=\"Times,serif\" font-size=\"14.00\">failed_task</text>\n</g>\n<!-- 4588076432&#45;&gt;4588076576 -->\n<g id=\"edge2\" class=\"edge\">\n<title>4588076432&#45;&gt;4588076576</title>\n<path fill=\"none\" stroke=\"black\" d=\"M485.64,-77.48C478.28,-75.44 470.55,-73.49 463.24,-72 335.13,-45.82 300.44,-56.15 171.24,-36 164.22,-34.91 156.91,-33.67 149.62,-32.39\"/>\n<polygon fill=\"black\" stroke=\"black\" points=\"150.19,-28.94 139.73,-30.61 148.95,-35.82 150.19,-28.94\"/>\n</g>\n<!-- 4588076432&#45;&gt;4587691744 -->\n<g id=\"edge7\" class=\"edge\">\n<title>4588076432&#45;&gt;4587691744</title>\n<path fill=\"none\" stroke=\"black\" d=\"M484.19,-77.92C477.23,-75.93 470.02,-73.88 463.24,-72 417.41,-59.26 365.46,-45.38 326.27,-35.02\"/>\n<polygon fill=\"black\" stroke=\"black\" points=\"327.16,-31.63 316.6,-32.46 325.37,-38.4 327.16,-31.63\"/>\n</g>\n<!-- 4588076432&#45;&gt;4587691168 -->\n<g id=\"edge4\" class=\"edge\">\n<title>4588076432&#45;&gt;4587691168</title>\n<path fill=\"none\" stroke=\"black\" d=\"M502.73,-73.12C491.35,-63.85 476.8,-52.01 464.21,-41.76\"/>\n<polygon fill=\"black\" stroke=\"black\" points=\"466.24,-38.91 456.28,-35.31 461.82,-44.33 466.24,-38.91\"/>\n</g>\n<!-- 4588076432&#45;&gt;4587689536 -->\n<g id=\"edge9\" class=\"edge\">\n<title>4588076432&#45;&gt;4587689536</title>\n<path fill=\"none\" stroke=\"black\" d=\"M542.44,-73.46C554.49,-64.19 570.02,-52.25 583.46,-41.91\"/>\n<polygon fill=\"black\" stroke=\"black\" points=\"585.72,-44.59 591.51,-35.71 581.45,-39.04 585.72,-44.59\"/>\n</g>\n<!-- 4588076432&#45;&gt;4588106656 -->\n<g id=\"edge10\" class=\"edge\">\n<title>4588076432&#45;&gt;4588106656</title>\n<path fill=\"none\" stroke=\"black\" d=\"M559.95,-77.9C567.01,-75.89 574.34,-73.84 581.24,-72 632.93,-58.19 691.95,-43.73 735.07,-33.41\"/>\n<polygon fill=\"black\" stroke=\"black\" points=\"735.93,-36.81 744.84,-31.08 734.3,-30 735.93,-36.81\"/>\n</g>\n<!-- 4588076432&#45;&gt;4588076720 -->\n<g id=\"edge5\" class=\"edge\">\n<title>4588076432&#45;&gt;4588076720</title>\n<path fill=\"none\" stroke=\"black\" d=\"M558.84,-77.47C566.21,-75.43 573.93,-73.49 581.24,-72 711.98,-45.45 747.86,-59.16 879.24,-36 884.69,-35.04 890.34,-33.93 895.98,-32.75\"/>\n<polygon fill=\"black\" stroke=\"black\" points=\"897.03,-36.1 906.06,-30.55 895.54,-29.26 897.03,-36.1\"/>\n</g>\n<!-- 4587810000 -->\n<g id=\"node10\" class=\"node\">\n<title>4587810000</title>\n<ellipse fill=\"#28a745\" fill-opacity=\"0.501961\" stroke=\"#28a745\" stroke-opacity=\"0.501961\" cx=\"658.24\" cy=\"-90\" rx=\"67.69\" ry=\"18\"/>\n<text text-anchor=\"middle\" x=\"658.24\" y=\"-86.3\" font-family=\"Times,serif\" font-size=\"14.00\">successful_task</text>\n</g>\n<!-- 4587810000&#45;&gt;4588076576 -->\n<g id=\"edge18\" class=\"edge\">\n<title>4587810000&#45;&gt;4588076576</title>\n<path fill=\"none\" stroke=\"black\" d=\"M610.18,-77.24C600.95,-75.27 591.33,-73.41 582.24,-72 401.04,-43.92 352.89,-61.05 171.24,-36 163.9,-34.99 156.26,-33.78 148.65,-32.48\"/>\n<polygon fill=\"black\" stroke=\"black\" points=\"149.17,-29.02 138.72,-30.74 147.96,-35.92 149.17,-29.02\"/>\n</g>\n<!-- 4587810000&#45;&gt;4587691744 -->\n<g id=\"edge1\" class=\"edge\">\n<title>4587810000&#45;&gt;4587691744</title>\n<path fill=\"none\" stroke=\"black\" d=\"M608.87,-77.5C600.02,-75.57 590.87,-73.66 582.24,-72 483.66,-53.03 458.2,-52.93 359.24,-36 352.11,-34.78 344.67,-33.48 337.24,-32.16\"/>\n<polygon fill=\"black\" stroke=\"black\" points=\"337.61,-28.68 327.15,-30.37 336.39,-35.57 337.61,-28.68\"/>\n</g>\n<!-- 4587810000&#45;&gt;4587691168 -->\n<g id=\"edge16\" class=\"edge\">\n<title>4587810000&#45;&gt;4587691168</title>\n<path fill=\"none\" stroke=\"black\" d=\"M616.49,-75.83C580.01,-64.33 526.93,-47.6 487.81,-35.26\"/>\n<polygon fill=\"black\" stroke=\"black\" points=\"488.78,-31.9 478.19,-32.23 486.67,-38.57 488.78,-31.9\"/>\n</g>\n<!-- 4587810000&#45;&gt;4587689536 -->\n<g id=\"edge28\" class=\"edge\">\n<title>4587810000&#45;&gt;4587689536</title>\n<path fill=\"none\" stroke=\"black\" d=\"M647.35,-72.05C642.12,-63.92 635.74,-54 629.92,-44.94\"/>\n<polygon fill=\"black\" stroke=\"black\" points=\"632.7,-42.79 624.35,-36.28 626.81,-46.58 632.7,-42.79\"/>\n</g>\n<!-- 4587810000&#45;&gt;4588106656 -->\n<g id=\"edge30\" class=\"edge\">\n<title>4587810000&#45;&gt;4588106656</title>\n<path fill=\"none\" stroke=\"black\" d=\"M688.19,-73.81C708.16,-63.68 734.65,-50.24 756.4,-39.21\"/>\n<polygon fill=\"black\" stroke=\"black\" points=\"758.07,-42.29 765.4,-34.64 754.9,-36.05 758.07,-42.29\"/>\n</g>\n<!-- 4587810000&#45;&gt;4588076720 -->\n<g id=\"edge24\" class=\"edge\">\n<title>4587810000&#45;&gt;4588076720</title>\n<path fill=\"none\" stroke=\"black\" d=\"M706.79,-77.44C758.38,-65.16 839.91,-45.75 894.69,-32.7\"/>\n<polygon fill=\"black\" stroke=\"black\" points=\"895.68,-36.07 904.6,-30.34 894.06,-29.26 895.68,-36.07\"/>\n</g>\n</g>\n</svg>\n"
     },
     "metadata": {},
     "execution_count": 7
    }
   ],
   "metadata": {}
  },
  {
   "cell_type": "markdown",
   "source": [
    "## その他のTrigger\n",
    "- all_finished: 成功・失敗は関係なく、全てのupstream taskが完了した場合に実行される\n",
    "- manual_only:\n",
    "- not_all_skipped: upstream taskが一つもスキップされておらず全て成功している場合に実行される\n",
    "  - スキップは`SKIP`シグナルをraiseした場合であり、upstream taskのtirrgerにより実行されなかったもの(`TriggerFailed`)は含まれない"
   ],
   "metadata": {}
  },
  {
   "cell_type": "code",
   "execution_count": 8,
   "source": [
    "@task(trigger=all_finished)\n",
    "def all_finished_task():\n",
    "    print(\"all_finished_task\")\n",
    "\n",
    "with Flow(\"all_finished\") as flow_all_finished:\n",
    "    s1 = successful_task()\n",
    "    f1 = failed_task()\n",
    "    # all_finished_taskは、upstream_tasksに指定したタスクが完了すれば実行される\n",
    "    all_finished_task(upstream_tasks=[s1, f1])\n",
    "\n",
    "print(\"🏃‍♂️💨💨💨💨💨💨💨💨 RUN: flow_all_finished\")\n",
    "flow_all_finished_state = flow_all_finished.run()\n",
    "flow_all_finished.visualize(flow_state=flow_all_finished_state)"
   ],
   "outputs": [
    {
     "output_type": "stream",
     "name": "stdout",
     "text": [
      "🏃‍♂️💨💨💨💨💨💨💨💨 RUN: flow_all_finished\n",
      "[2021-09-18 19:19:50+0900] INFO - prefect.FlowRunner | Beginning Flow run for 'all_finished'\n",
      "[2021-09-18 19:19:50+0900] INFO - prefect.TaskRunner | Task 'successful_task': Starting task run...\n",
      "[2021-09-18 19:19:50+0900] INFO - prefect.TaskRunner | Task 'successful_task': Finished task run for task with final state: 'Success'\n",
      "[2021-09-18 19:19:50+0900] INFO - prefect.TaskRunner | Task 'failed_task': Starting task run...\n",
      "[2021-09-18 19:19:50+0900] ERROR - prefect.TaskRunner | Task 'failed_task': Exception encountered during task execution!\n",
      "Traceback (most recent call last):\n",
      "  File \"/Users/ryoasu/Library/Caches/pypoetry/virtualenvs/try-prefect-T2Jmh4JG-py3.9/lib/python3.9/site-packages/prefect/engine/task_runner.py\", line 859, in get_task_run_state\n",
      "    value = prefect.utilities.executors.run_task_with_timeout(\n",
      "  File \"/Users/ryoasu/Library/Caches/pypoetry/virtualenvs/try-prefect-T2Jmh4JG-py3.9/lib/python3.9/site-packages/prefect/utilities/executors.py\", line 445, in run_task_with_timeout\n",
      "    return task.run(*args, **kwargs)  # type: ignore\n",
      "  File \"/var/folders/6b/t3v4fdjs7gq6j0rw2gcb0s7r0000gn/T/ipykernel_75086/3956158869.py\", line 8, in failed_task\n",
      "    raise Exception(\"failed_1\")\n",
      "Exception: failed_1\n",
      "[2021-09-18 19:19:50+0900] INFO - prefect.TaskRunner | Task 'failed_task': Finished task run for task with final state: 'Failed'\n",
      "[2021-09-18 19:19:50+0900] INFO - prefect.TaskRunner | Task 'all_finished_task': Starting task run...\n",
      "all_finished_task\n",
      "[2021-09-18 19:19:50+0900] INFO - prefect.TaskRunner | Task 'all_finished_task': Finished task run for task with final state: 'Success'\n",
      "[2021-09-18 19:19:50+0900] INFO - prefect.FlowRunner | Flow run SUCCESS: all reference tasks succeeded\n"
     ]
    },
    {
     "output_type": "execute_result",
     "data": {
      "text/plain": [
       "<graphviz.dot.Digraph at 0x111787fd0>"
      ],
      "image/svg+xml": "<?xml version=\"1.0\" encoding=\"UTF-8\" standalone=\"no\"?>\n<!DOCTYPE svg PUBLIC \"-//W3C//DTD SVG 1.1//EN\"\n \"http://www.w3.org/Graphics/SVG/1.1/DTD/svg11.dtd\">\n<!-- Generated by graphviz version 2.49.0 (20210828.1703)\n -->\n<!-- Pages: 1 -->\n<svg width=\"262pt\" height=\"116pt\"\n viewBox=\"0.00 0.00 262.29 116.00\" xmlns=\"http://www.w3.org/2000/svg\" xmlns:xlink=\"http://www.w3.org/1999/xlink\">\n<g id=\"graph0\" class=\"graph\" transform=\"scale(1 1) rotate(0) translate(4 112)\">\n<polygon fill=\"white\" stroke=\"transparent\" points=\"-4,4 -4,-112 258.29,-112 258.29,4 -4,4\"/>\n<!-- 4588022800 -->\n<g id=\"node1\" class=\"node\">\n<title>4588022800</title>\n<ellipse fill=\"#28a745\" fill-opacity=\"0.501961\" stroke=\"#28a745\" stroke-opacity=\"0.501961\" cx=\"67.59\" cy=\"-90\" rx=\"67.69\" ry=\"18\"/>\n<text text-anchor=\"middle\" x=\"67.59\" y=\"-86.3\" font-family=\"Times,serif\" font-size=\"14.00\">successful_task</text>\n</g>\n<!-- 4588073264 -->\n<g id=\"node2\" class=\"node\">\n<title>4588073264</title>\n<ellipse fill=\"#28a745\" fill-opacity=\"0.501961\" stroke=\"#28a745\" stroke-opacity=\"0.501961\" cx=\"135.59\" cy=\"-18\" rx=\"72.29\" ry=\"18\"/>\n<text text-anchor=\"middle\" x=\"135.59\" y=\"-14.3\" font-family=\"Times,serif\" font-size=\"14.00\">all_finished_task</text>\n</g>\n<!-- 4588022800&#45;&gt;4588073264 -->\n<g id=\"edge2\" class=\"edge\">\n<title>4588022800&#45;&gt;4588073264</title>\n<path fill=\"none\" stroke=\"black\" d=\"M83.71,-72.41C92.14,-63.73 102.62,-52.95 111.95,-43.34\"/>\n<polygon fill=\"black\" stroke=\"black\" points=\"114.66,-45.57 119.12,-35.96 109.64,-40.69 114.66,-45.57\"/>\n</g>\n<!-- 4587690928 -->\n<g id=\"node3\" class=\"node\">\n<title>4587690928</title>\n<ellipse fill=\"#eb0000\" fill-opacity=\"0.501961\" stroke=\"#eb0000\" stroke-opacity=\"0.501961\" cx=\"203.59\" cy=\"-90\" rx=\"50.89\" ry=\"18\"/>\n<text text-anchor=\"middle\" x=\"203.59\" y=\"-86.3\" font-family=\"Times,serif\" font-size=\"14.00\">failed_task</text>\n</g>\n<!-- 4587690928&#45;&gt;4588073264 -->\n<g id=\"edge1\" class=\"edge\">\n<title>4587690928&#45;&gt;4588073264</title>\n<path fill=\"none\" stroke=\"black\" d=\"M187.82,-72.76C179.19,-63.88 168.34,-52.71 158.77,-42.85\"/>\n<polygon fill=\"black\" stroke=\"black\" points=\"161.23,-40.37 151.75,-35.63 156.21,-45.24 161.23,-40.37\"/>\n</g>\n</g>\n</svg>\n"
     },
     "metadata": {},
     "execution_count": 8
    }
   ],
   "metadata": {}
  },
  {
   "cell_type": "code",
   "execution_count": 9,
   "source": [
    "@task(trigger=manual_only)\n",
    "def manual_only_task():\n",
    "    print(\"manual_only\")\n",
    "\n",
    "with Flow(\"manual_only\") as flow_manual_only:\n",
    "    s1 = successful_task()\n",
    "    # manual_only_taskは、upstream_tasksに指定したタスクが完了した後に実行するかどうかをmanualで要求する\n",
    "    manual_only_task(upstream_tasks=[s1])\n",
    "\n",
    "print(\"🏃‍♂️💨💨💨💨💨💨💨💨 RUN: flow_one_successful\")\n",
    "flow_manual_only_state = flow_manual_only.run()\n",
    "flow_manual_only.visualize(flow_state=flow_manual_only_state)"
   ],
   "outputs": [
    {
     "output_type": "stream",
     "name": "stdout",
     "text": [
      "🏃‍♂️💨💨💨💨💨💨💨💨 RUN: flow_one_successful\n",
      "[2021-09-18 19:19:51+0900] INFO - prefect.FlowRunner | Beginning Flow run for 'manual_only'\n",
      "[2021-09-18 19:19:51+0900] INFO - prefect.TaskRunner | Task 'successful_task': Starting task run...\n",
      "[2021-09-18 19:19:51+0900] INFO - prefect.TaskRunner | Task 'successful_task': Finished task run for task with final state: 'Success'\n",
      "[2021-09-18 19:19:51+0900] INFO - prefect.TaskRunner | Task 'manual_only_task': Starting task run...\n",
      "[2021-09-18 19:19:51+0900] INFO - prefect.TaskRunner | Task 'manual_only_task': Finished task run for task with final state: 'Paused'\n",
      "[2021-09-18 19:19:51+0900] INFO - prefect.FlowRunner | Flow run RUNNING: terminal tasks are incomplete.\n",
      "[2021-09-18 19:19:54+0900] INFO - prefect.FlowRunner | Beginning Flow run for 'manual_only'\n",
      "[2021-09-18 19:19:54+0900] INFO - prefect.TaskRunner | Task 'manual_only_task': Starting task run...\n",
      "manual_only\n",
      "[2021-09-18 19:19:54+0900] INFO - prefect.TaskRunner | Task 'manual_only_task': Finished task run for task with final state: 'Success'\n",
      "[2021-09-18 19:19:54+0900] INFO - prefect.FlowRunner | Flow run SUCCESS: all reference tasks succeeded\n"
     ]
    },
    {
     "output_type": "execute_result",
     "data": {
      "text/plain": [
       "<graphviz.dot.Digraph at 0x111756760>"
      ],
      "image/svg+xml": "<?xml version=\"1.0\" encoding=\"UTF-8\" standalone=\"no\"?>\n<!DOCTYPE svg PUBLIC \"-//W3C//DTD SVG 1.1//EN\"\n \"http://www.w3.org/Graphics/SVG/1.1/DTD/svg11.dtd\">\n<!-- Generated by graphviz version 2.49.0 (20210828.1703)\n -->\n<!-- Pages: 1 -->\n<svg width=\"163pt\" height=\"116pt\"\n viewBox=\"0.00 0.00 162.69 116.00\" xmlns=\"http://www.w3.org/2000/svg\" xmlns:xlink=\"http://www.w3.org/1999/xlink\">\n<g id=\"graph0\" class=\"graph\" transform=\"scale(1 1) rotate(0) translate(4 112)\">\n<polygon fill=\"white\" stroke=\"transparent\" points=\"-4,4 -4,-112 158.69,-112 158.69,4 -4,4\"/>\n<!-- 4588075376 -->\n<g id=\"node1\" class=\"node\">\n<title>4588075376</title>\n<ellipse fill=\"#28a745\" fill-opacity=\"0.501961\" stroke=\"#28a745\" stroke-opacity=\"0.501961\" cx=\"77.34\" cy=\"-90\" rx=\"67.69\" ry=\"18\"/>\n<text text-anchor=\"middle\" x=\"77.34\" y=\"-86.3\" font-family=\"Times,serif\" font-size=\"14.00\">successful_task</text>\n</g>\n<!-- 4588075520 -->\n<g id=\"node2\" class=\"node\">\n<title>4588075520</title>\n<ellipse fill=\"#28a745\" fill-opacity=\"0.501961\" stroke=\"#28a745\" stroke-opacity=\"0.501961\" cx=\"77.34\" cy=\"-18\" rx=\"77.19\" ry=\"18\"/>\n<text text-anchor=\"middle\" x=\"77.34\" y=\"-14.3\" font-family=\"Times,serif\" font-size=\"14.00\">manual_only_task</text>\n</g>\n<!-- 4588075376&#45;&gt;4588075520 -->\n<g id=\"edge1\" class=\"edge\">\n<title>4588075376&#45;&gt;4588075520</title>\n<path fill=\"none\" stroke=\"black\" d=\"M77.34,-71.7C77.34,-63.98 77.34,-54.71 77.34,-46.11\"/>\n<polygon fill=\"black\" stroke=\"black\" points=\"80.84,-46.1 77.34,-36.1 73.84,-46.1 80.84,-46.1\"/>\n</g>\n</g>\n</svg>\n"
     },
     "metadata": {},
     "execution_count": 9
    }
   ],
   "metadata": {}
  },
  {
   "cell_type": "code",
   "execution_count": 10,
   "source": [
    "@task(trigger=not_all_skipped)\n",
    "def not_all_skipped_task():\n",
    "    print(\"not_all_skipped\")\n",
    "\n",
    "@task\n",
    "def skipped_task():\n",
    "    raise SKIP(\"skipped_task\")"
   ],
   "outputs": [],
   "metadata": {}
  },
  {
   "cell_type": "code",
   "execution_count": 11,
   "source": [
    "with Flow(\"one_skiped\") as flow_one_skiped:\n",
    "    s1 = successful_task()\n",
    "    # スキップされるタスク\n",
    "    skipped_1 = skipped_task()\n",
    "    # スキップされるタスクがupstream_tasksに含まれているので実行されない(このタスクもスキップされる)\n",
    "    not_all_skipped_task(upstream_tasks=[s1, skipped_1])\n",
    "\n",
    "print(\"🏃‍♂️💨💨💨💨💨💨💨💨 RUN: flow_one_skiped\")\n",
    "flow_one_skiped_state = flow_one_skiped.run()\n",
    "flow_one_skiped.visualize(flow_state=flow_one_skiped_state)"
   ],
   "outputs": [
    {
     "output_type": "stream",
     "name": "stdout",
     "text": [
      "🏃‍♂️💨💨💨💨💨💨💨💨 RUN: flow_one_skiped\n",
      "[2021-09-18 19:19:54+0900] INFO - prefect.FlowRunner | Beginning Flow run for 'one_skiped'\n",
      "[2021-09-18 19:19:54+0900] INFO - prefect.TaskRunner | Task 'successful_task': Starting task run...\n",
      "[2021-09-18 19:19:54+0900] INFO - prefect.TaskRunner | Task 'successful_task': Finished task run for task with final state: 'Success'\n",
      "[2021-09-18 19:19:54+0900] INFO - prefect.TaskRunner | Task 'skipped_task': Starting task run...\n",
      "[2021-09-18 19:19:54+0900] INFO - prefect.TaskRunner | SKIP signal raised: SKIP('skipped_task')\n",
      "[2021-09-18 19:19:54+0900] INFO - prefect.TaskRunner | Task 'skipped_task': Finished task run for task with final state: 'Skipped'\n",
      "[2021-09-18 19:19:54+0900] INFO - prefect.TaskRunner | Task 'not_all_skipped_task': Starting task run...\n",
      "[2021-09-18 19:19:54+0900] INFO - prefect.TaskRunner | Task 'not_all_skipped_task': Finished task run for task with final state: 'Skipped'\n",
      "[2021-09-18 19:19:54+0900] INFO - prefect.FlowRunner | Flow run SUCCESS: all reference tasks succeeded\n"
     ]
    },
    {
     "output_type": "execute_result",
     "data": {
      "text/plain": [
       "<graphviz.dot.Digraph at 0x1117e1460>"
      ],
      "image/svg+xml": "<?xml version=\"1.0\" encoding=\"UTF-8\" standalone=\"no\"?>\n<!DOCTYPE svg PUBLIC \"-//W3C//DTD SVG 1.1//EN\"\n \"http://www.w3.org/Graphics/SVG/1.1/DTD/svg11.dtd\">\n<!-- Generated by graphviz version 2.49.0 (20210828.1703)\n -->\n<!-- Pages: 1 -->\n<svg width=\"278pt\" height=\"116pt\"\n viewBox=\"0.00 0.00 278.09 116.00\" xmlns=\"http://www.w3.org/2000/svg\" xmlns:xlink=\"http://www.w3.org/1999/xlink\">\n<g id=\"graph0\" class=\"graph\" transform=\"scale(1 1) rotate(0) translate(4 112)\">\n<polygon fill=\"white\" stroke=\"transparent\" points=\"-4,4 -4,-112 274.09,-112 274.09,4 -4,4\"/>\n<!-- 4588283456 -->\n<g id=\"node1\" class=\"node\">\n<title>4588283456</title>\n<ellipse fill=\"#28a745\" fill-opacity=\"0.501961\" stroke=\"#28a745\" stroke-opacity=\"0.501961\" cx=\"67.59\" cy=\"-90\" rx=\"67.69\" ry=\"18\"/>\n<text text-anchor=\"middle\" x=\"67.59\" y=\"-86.3\" font-family=\"Times,serif\" font-size=\"14.00\">successful_task</text>\n</g>\n<!-- 4588442192 -->\n<g id=\"node3\" class=\"node\">\n<title>4588442192</title>\n<ellipse fill=\"#62757f\" fill-opacity=\"0.501961\" stroke=\"#62757f\" stroke-opacity=\"0.501961\" cx=\"139.59\" cy=\"-18\" rx=\"87.99\" ry=\"18\"/>\n<text text-anchor=\"middle\" x=\"139.59\" y=\"-14.3\" font-family=\"Times,serif\" font-size=\"14.00\">not_all_skipped_task</text>\n</g>\n<!-- 4588283456&#45;&gt;4588442192 -->\n<g id=\"edge2\" class=\"edge\">\n<title>4588283456&#45;&gt;4588442192</title>\n<path fill=\"none\" stroke=\"black\" d=\"M84.66,-72.41C93.67,-63.65 104.9,-52.73 114.85,-43.06\"/>\n<polygon fill=\"black\" stroke=\"black\" points=\"117.42,-45.44 122.15,-35.96 112.54,-40.42 117.42,-45.44\"/>\n</g>\n<!-- 4588021024 -->\n<g id=\"node2\" class=\"node\">\n<title>4588021024</title>\n<ellipse fill=\"#62757f\" fill-opacity=\"0.501961\" stroke=\"#62757f\" stroke-opacity=\"0.501961\" cx=\"211.59\" cy=\"-90\" rx=\"58.49\" ry=\"18\"/>\n<text text-anchor=\"middle\" x=\"211.59\" y=\"-86.3\" font-family=\"Times,serif\" font-size=\"14.00\">skipped_task</text>\n</g>\n<!-- 4588021024&#45;&gt;4588442192 -->\n<g id=\"edge1\" class=\"edge\">\n<title>4588021024&#45;&gt;4588442192</title>\n<path fill=\"none\" stroke=\"black\" d=\"M194.53,-72.41C185.52,-63.65 174.29,-52.73 164.34,-43.06\"/>\n<polygon fill=\"black\" stroke=\"black\" points=\"166.64,-40.42 157.03,-35.96 161.76,-45.44 166.64,-40.42\"/>\n</g>\n</g>\n</svg>\n"
     },
     "metadata": {},
     "execution_count": 11
    }
   ],
   "metadata": {}
  }
 ],
 "metadata": {
  "orig_nbformat": 4,
  "language_info": {
   "name": "python",
   "version": "3.9.6",
   "mimetype": "text/x-python",
   "codemirror_mode": {
    "name": "ipython",
    "version": 3
   },
   "pygments_lexer": "ipython3",
   "nbconvert_exporter": "python",
   "file_extension": ".py"
  },
  "kernelspec": {
   "name": "python3",
   "display_name": "Python 3.9.6 64-bit ('try-prefect-T2Jmh4JG-py3.9': poetry)"
  },
  "interpreter": {
   "hash": "914aac7be4f3c4c3dd7bbd4ab69db662d3c9e607796a6ac3ad3331e5da4b62bd"
  }
 },
 "nbformat": 4,
 "nbformat_minor": 2
}