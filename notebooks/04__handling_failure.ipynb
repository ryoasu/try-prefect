{
 "cells": [
  {
   "cell_type": "markdown",
   "source": [
    "# 失敗時のハンドリング\n",
    "タスクがなんらかの理由で失敗した場合のハンドリングについて試す。"
   ],
   "metadata": {}
  },
  {
   "cell_type": "code",
   "execution_count": 1,
   "source": [
    "# needs import\n",
    "from prefect import Flow, task, Task\n",
    "from prefect.engine.state import State\n",
    "from datetime import timedelta"
   ],
   "outputs": [],
   "metadata": {}
  },
  {
   "cell_type": "markdown",
   "source": [
    "## リトライ\n",
    "タスクは `max_retries` (最大リトライ回数)と `retry_delay` (リトライを行う間隔)を設定することができる。\n",
    "\n",
    "これにより、タスクが失敗した際は指定された回数・間隔でリトライすることができる。"
   ],
   "metadata": {}
  },
  {
   "cell_type": "code",
   "execution_count": 2,
   "source": [
    "@task(max_retries=3, retry_delay=timedelta(seconds=5))\n",
    "def retry_task():\n",
    "    raise Exception(\"retry_task\")\n",
    "\n",
    "with Flow(\"retry\") as flow_retry:\n",
    "    retry_task()\n",
    "\n",
    "flow_retry.run()"
   ],
   "outputs": [
    {
     "output_type": "stream",
     "name": "stdout",
     "text": [
      "[2021-09-22 01:53:48+0900] INFO - prefect.FlowRunner | Beginning Flow run for 'retry'\n",
      "[2021-09-22 01:53:48+0900] INFO - prefect.TaskRunner | Task 'retry_task': Starting task run...\n",
      "[2021-09-22 01:53:48+0900] ERROR - prefect.TaskRunner | Task 'retry_task': Exception encountered during task execution!\n",
      "Traceback (most recent call last):\n",
      "  File \"/Users/ryoasu/Library/Caches/pypoetry/virtualenvs/try-prefect-T2Jmh4JG-py3.9/lib/python3.9/site-packages/prefect/engine/task_runner.py\", line 859, in get_task_run_state\n",
      "    value = prefect.utilities.executors.run_task_with_timeout(\n",
      "  File \"/Users/ryoasu/Library/Caches/pypoetry/virtualenvs/try-prefect-T2Jmh4JG-py3.9/lib/python3.9/site-packages/prefect/utilities/executors.py\", line 445, in run_task_with_timeout\n",
      "    return task.run(*args, **kwargs)  # type: ignore\n",
      "  File \"/var/folders/6b/t3v4fdjs7gq6j0rw2gcb0s7r0000gn/T/ipykernel_2218/81358480.py\", line 3, in retry_task\n",
      "    raise Exception(\"retry_task\")\n",
      "Exception: retry_task\n",
      "[2021-09-22 01:53:48+0900] INFO - prefect.TaskRunner | Task 'retry_task': Finished task run for task with final state: 'Retrying'\n",
      "[2021-09-22 01:53:48+0900] INFO - prefect.FlowRunner | Flow run RUNNING: terminal tasks are incomplete.\n",
      "[2021-09-22 01:53:48+0900] INFO - prefect.retry | Waiting for next available Task run at 2021-09-21T16:53:53.305632+00:00\n",
      "[2021-09-22 01:53:53+0900] INFO - prefect.FlowRunner | Beginning Flow run for 'retry'\n",
      "[2021-09-22 01:53:53+0900] INFO - prefect.TaskRunner | Task 'retry_task': Starting task run...\n",
      "[2021-09-22 01:53:53+0900] ERROR - prefect.TaskRunner | Task 'retry_task': Exception encountered during task execution!\n",
      "Traceback (most recent call last):\n",
      "  File \"/Users/ryoasu/Library/Caches/pypoetry/virtualenvs/try-prefect-T2Jmh4JG-py3.9/lib/python3.9/site-packages/prefect/engine/task_runner.py\", line 859, in get_task_run_state\n",
      "    value = prefect.utilities.executors.run_task_with_timeout(\n",
      "  File \"/Users/ryoasu/Library/Caches/pypoetry/virtualenvs/try-prefect-T2Jmh4JG-py3.9/lib/python3.9/site-packages/prefect/utilities/executors.py\", line 445, in run_task_with_timeout\n",
      "    return task.run(*args, **kwargs)  # type: ignore\n",
      "  File \"/var/folders/6b/t3v4fdjs7gq6j0rw2gcb0s7r0000gn/T/ipykernel_2218/81358480.py\", line 3, in retry_task\n",
      "    raise Exception(\"retry_task\")\n",
      "Exception: retry_task\n",
      "[2021-09-22 01:53:53+0900] INFO - prefect.TaskRunner | Task 'retry_task': Finished task run for task with final state: 'Retrying'\n",
      "[2021-09-22 01:53:53+0900] INFO - prefect.FlowRunner | Flow run RUNNING: terminal tasks are incomplete.\n",
      "[2021-09-22 01:53:53+0900] INFO - prefect.retry | Waiting for next available Task run at 2021-09-21T16:53:58.347838+00:00\n",
      "[2021-09-22 01:53:58+0900] INFO - prefect.FlowRunner | Beginning Flow run for 'retry'\n",
      "[2021-09-22 01:53:58+0900] INFO - prefect.TaskRunner | Task 'retry_task': Starting task run...\n",
      "[2021-09-22 01:53:58+0900] ERROR - prefect.TaskRunner | Task 'retry_task': Exception encountered during task execution!\n",
      "Traceback (most recent call last):\n",
      "  File \"/Users/ryoasu/Library/Caches/pypoetry/virtualenvs/try-prefect-T2Jmh4JG-py3.9/lib/python3.9/site-packages/prefect/engine/task_runner.py\", line 859, in get_task_run_state\n",
      "    value = prefect.utilities.executors.run_task_with_timeout(\n",
      "  File \"/Users/ryoasu/Library/Caches/pypoetry/virtualenvs/try-prefect-T2Jmh4JG-py3.9/lib/python3.9/site-packages/prefect/utilities/executors.py\", line 445, in run_task_with_timeout\n",
      "    return task.run(*args, **kwargs)  # type: ignore\n",
      "  File \"/var/folders/6b/t3v4fdjs7gq6j0rw2gcb0s7r0000gn/T/ipykernel_2218/81358480.py\", line 3, in retry_task\n",
      "    raise Exception(\"retry_task\")\n",
      "Exception: retry_task\n",
      "[2021-09-22 01:53:58+0900] INFO - prefect.TaskRunner | Task 'retry_task': Finished task run for task with final state: 'Retrying'\n",
      "[2021-09-22 01:53:58+0900] INFO - prefect.FlowRunner | Flow run RUNNING: terminal tasks are incomplete.\n",
      "[2021-09-22 01:53:58+0900] INFO - prefect.retry | Waiting for next available Task run at 2021-09-21T16:54:03.399644+00:00\n",
      "[2021-09-22 01:54:03+0900] INFO - prefect.FlowRunner | Beginning Flow run for 'retry'\n",
      "[2021-09-22 01:54:03+0900] INFO - prefect.TaskRunner | Task 'retry_task': Starting task run...\n",
      "[2021-09-22 01:54:03+0900] ERROR - prefect.TaskRunner | Task 'retry_task': Exception encountered during task execution!\n",
      "Traceback (most recent call last):\n",
      "  File \"/Users/ryoasu/Library/Caches/pypoetry/virtualenvs/try-prefect-T2Jmh4JG-py3.9/lib/python3.9/site-packages/prefect/engine/task_runner.py\", line 859, in get_task_run_state\n",
      "    value = prefect.utilities.executors.run_task_with_timeout(\n",
      "  File \"/Users/ryoasu/Library/Caches/pypoetry/virtualenvs/try-prefect-T2Jmh4JG-py3.9/lib/python3.9/site-packages/prefect/utilities/executors.py\", line 445, in run_task_with_timeout\n",
      "    return task.run(*args, **kwargs)  # type: ignore\n",
      "  File \"/var/folders/6b/t3v4fdjs7gq6j0rw2gcb0s7r0000gn/T/ipykernel_2218/81358480.py\", line 3, in retry_task\n",
      "    raise Exception(\"retry_task\")\n",
      "Exception: retry_task\n",
      "[2021-09-22 01:54:03+0900] INFO - prefect.TaskRunner | Task 'retry_task': Finished task run for task with final state: 'Failed'\n",
      "[2021-09-22 01:54:03+0900] INFO - prefect.FlowRunner | Flow run FAILED: some reference tasks failed.\n"
     ]
    },
    {
     "output_type": "execute_result",
     "data": {
      "text/plain": [
       "<Failed: \"Some reference tasks failed.\">"
      ]
     },
     "metadata": {},
     "execution_count": 2
    }
   ],
   "metadata": {}
  },
  {
   "cell_type": "markdown",
   "source": [
    "## 失敗時に呼ばれるcallback関数の設定\n",
    "タスクが失敗した際に実行されるcallback関数を `@task(on_failure=<callback_fn>)` のように設定できる。\n",
    "\n",
    "ただし、設定できるcallback関数は `fn(task: prefect.Task, state: prefect.engine.state.State) -> None` を満たす関数のみ。"
   ],
   "metadata": {}
  },
  {
   "cell_type": "code",
   "execution_count": 3,
   "source": [
    "def callback_fn(task: Task, state: State):\n",
    "    print(\"📣 callback: \", task.name, state)\n",
    "\n",
    "@task(on_failure=callback_fn)\n",
    "def failed_task():\n",
    "    raise Exception(\"failed_task\")\n",
    "\n",
    "with Flow(\"callback\") as flow_callback:\n",
    "    failed_task()\n",
    "\n",
    "flow_callback.run()"
   ],
   "outputs": [
    {
     "output_type": "stream",
     "name": "stdout",
     "text": [
      "[2021-09-22 01:54:03+0900] INFO - prefect.FlowRunner | Beginning Flow run for 'callback'\n",
      "[2021-09-22 01:54:03+0900] INFO - prefect.TaskRunner | Task 'failed_task': Starting task run...\n",
      "[2021-09-22 01:54:03+0900] ERROR - prefect.TaskRunner | Task 'failed_task': Exception encountered during task execution!\n",
      "Traceback (most recent call last):\n",
      "  File \"/Users/ryoasu/Library/Caches/pypoetry/virtualenvs/try-prefect-T2Jmh4JG-py3.9/lib/python3.9/site-packages/prefect/engine/task_runner.py\", line 859, in get_task_run_state\n",
      "    value = prefect.utilities.executors.run_task_with_timeout(\n",
      "  File \"/Users/ryoasu/Library/Caches/pypoetry/virtualenvs/try-prefect-T2Jmh4JG-py3.9/lib/python3.9/site-packages/prefect/utilities/executors.py\", line 445, in run_task_with_timeout\n",
      "    return task.run(*args, **kwargs)  # type: ignore\n",
      "  File \"/var/folders/6b/t3v4fdjs7gq6j0rw2gcb0s7r0000gn/T/ipykernel_2218/2063309285.py\", line 6, in failed_task\n",
      "    raise Exception(\"failed_task\")\n",
      "Exception: failed_task\n",
      "📣 callback:  failed_task <Failed: \"Error during execution of task: Exception('failed_task')\">\n",
      "[2021-09-22 01:54:03+0900] INFO - prefect.TaskRunner | Task 'failed_task': Finished task run for task with final state: 'Failed'\n",
      "[2021-09-22 01:54:03+0900] INFO - prefect.FlowRunner | Flow run FAILED: some reference tasks failed.\n"
     ]
    },
    {
     "output_type": "execute_result",
     "data": {
      "text/plain": [
       "<Failed: \"Some reference tasks failed.\">"
      ]
     },
     "metadata": {},
     "execution_count": 3
    }
   ],
   "metadata": {}
  },
  {
   "cell_type": "markdown",
   "source": [
    "## タスクの状態遷移に応じたhandlerの設定\n",
    "タスクの状態が遷移した際(e.g. Pending -> Runnning -> Failed)、実行されるstate handlerを `@task(state_handlers=[<callback_fn>])` のように設定できる。\n",
    "\n",
    "ただし、設定できるhandlerは `fn(task: prefect.Task, old_state: prefect.engine.state.State, new_state: prefect.engine.state.State) -> None` を満たす関数のみ。\n",
    "\n",
    "主に通知処理などに利用できる。"
   ],
   "metadata": {}
  },
  {
   "cell_type": "code",
   "execution_count": 4,
   "source": [
    "def handler(task: Task, old_state: State, new_state: State):\n",
    "    print(\"📬 handler: \", task.name, old_state, new_state)\n",
    "\n",
    "@task(state_handlers=[handler])\n",
    "def failed_task():\n",
    "    raise Exception(\"failed_task\")\n",
    "\n",
    "with Flow(\"callback\") as flow_callback:\n",
    "    failed_task()\n",
    "\n",
    "flow_callback.run()"
   ],
   "outputs": [
    {
     "output_type": "stream",
     "name": "stdout",
     "text": [
      "[2021-09-22 01:54:03+0900] INFO - prefect.FlowRunner | Beginning Flow run for 'callback'\n",
      "[2021-09-22 01:54:03+0900] INFO - prefect.TaskRunner | Task 'failed_task': Starting task run...\n",
      "📬 handler:  failed_task <Pending> <Running: \"Starting task run.\">\n",
      "[2021-09-22 01:54:03+0900] ERROR - prefect.TaskRunner | Task 'failed_task': Exception encountered during task execution!\n",
      "Traceback (most recent call last):\n",
      "  File \"/Users/ryoasu/Library/Caches/pypoetry/virtualenvs/try-prefect-T2Jmh4JG-py3.9/lib/python3.9/site-packages/prefect/engine/task_runner.py\", line 859, in get_task_run_state\n",
      "    value = prefect.utilities.executors.run_task_with_timeout(\n",
      "  File \"/Users/ryoasu/Library/Caches/pypoetry/virtualenvs/try-prefect-T2Jmh4JG-py3.9/lib/python3.9/site-packages/prefect/utilities/executors.py\", line 445, in run_task_with_timeout\n",
      "    return task.run(*args, **kwargs)  # type: ignore\n",
      "  File \"/var/folders/6b/t3v4fdjs7gq6j0rw2gcb0s7r0000gn/T/ipykernel_2218/1932910690.py\", line 6, in failed_task\n",
      "    raise Exception(\"failed_task\")\n",
      "Exception: failed_task\n",
      "📬 handler:  failed_task <Running: \"Starting task run.\"> <Failed: \"Error during execution of task: Exception('failed_task')\">\n",
      "[2021-09-22 01:54:03+0900] INFO - prefect.TaskRunner | Task 'failed_task': Finished task run for task with final state: 'Failed'\n",
      "[2021-09-22 01:54:03+0900] INFO - prefect.FlowRunner | Flow run FAILED: some reference tasks failed.\n"
     ]
    },
    {
     "output_type": "execute_result",
     "data": {
      "text/plain": [
       "<Failed: \"Some reference tasks failed.\">"
      ]
     },
     "metadata": {},
     "execution_count": 4
    }
   ],
   "metadata": {}
  }
 ],
 "metadata": {
  "orig_nbformat": 4,
  "language_info": {
   "name": "python",
   "version": "3.9.6",
   "mimetype": "text/x-python",
   "codemirror_mode": {
    "name": "ipython",
    "version": 3
   },
   "pygments_lexer": "ipython3",
   "nbconvert_exporter": "python",
   "file_extension": ".py"
  },
  "kernelspec": {
   "name": "python3",
   "display_name": "Python 3.9.6 64-bit ('try-prefect-T2Jmh4JG-py3.9': poetry)"
  },
  "interpreter": {
   "hash": "914aac7be4f3c4c3dd7bbd4ab69db662d3c9e607796a6ac3ad3331e5da4b62bd"
  }
 },
 "nbformat": 4,
 "nbformat_minor": 2
}