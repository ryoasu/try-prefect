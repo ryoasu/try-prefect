{
    "cells": [
        {
            "cell_type": "markdown",
            "source": [
                "# TaskとFlow"
            ],
            "metadata": {}
        },
        {
            "cell_type": "code",
            "execution_count": 1,
            "source": [
                "# needs imports\n",
                "from prefect import Task, task\n",
                "from prefect import Flow\n",
                "from prefect import Parameter\n"
            ],
            "outputs": [],
            "metadata": {}
        },
        {
            "cell_type": "markdown",
            "source": [
                "## Taskの定義\n",
                "Taskの定義には関数とclassが利用できる"
            ],
            "metadata": {}
        },
        {
            "cell_type": "code",
            "execution_count": 2,
            "source": [
                "# prefect task used function\n",
                "@task\n",
                "def add(x: int, y: int) -> int:\n",
                "    return x + y\n"
            ],
            "outputs": [],
            "metadata": {}
        },
        {
            "cell_type": "code",
            "execution_count": 3,
            "source": [
                "# prefect task used class\n",
                "class AddTask(Task):\n",
                "\n",
                "    def __init__(self, default: int, *args, **kwargs):\n",
                "        super().__init__(*args, **kwargs)\n",
                "        self.default = default\n",
                "\n",
                "    def run(self, x: int, y: int=None) -> int:\n",
                "        if y is None:\n",
                "            y = self.default\n",
                "        return x + y\n",
                "\n",
                "_add = AddTask(default=1)"
            ],
            "outputs": [],
            "metadata": {}
        },
        {
            "cell_type": "markdown",
            "source": [
                "## Flowの定義\n",
                "Flowの定義には **Functional API** と **Imperative API** が利用できる"
            ],
            "metadata": {}
        },
        {
            "cell_type": "code",
            "execution_count": 4,
            "source": [
                "# [Functional API]\n",
                "\n",
                "with Flow(\"My first flow!\") as functionalFlow:\n",
                "    first_result = add(1, 2)\n",
                "    second_result = add(first_result, 100)\n",
                "\n",
                "\n",
                "# Flowの実行\n",
                "state = functionalFlow.run()\n",
                "assert state.is_successful()\n",
                "\n",
                "first_task_state = state.result[first_result]\n",
                "assert first_task_state.is_successful()\n",
                "print(\"first result: \", first_task_state.result)\n",
                "assert first_task_state.result == 3\n",
                "\n",
                "\n",
                "second_task_state = state.result[second_result]\n",
                "assert second_task_state.is_successful()\n",
                "print(\"second result: \", second_task_state.result)\n",
                "assert second_task_state.result == 103"
            ],
            "outputs": [
                {
                    "output_type": "stream",
                    "name": "stdout",
                    "text": [
                        "[2021-08-30 17:24:31+0900] INFO - prefect.FlowRunner | Beginning Flow run for 'My first flow!'\n",
                        "[2021-08-30 17:24:31+0900] INFO - prefect.TaskRunner | Task 'add': Starting task run...\n",
                        "[2021-08-30 17:24:31+0900] INFO - prefect.TaskRunner | Task 'add': Finished task run for task with final state: 'Success'\n",
                        "[2021-08-30 17:24:31+0900] INFO - prefect.TaskRunner | Task 'add': Starting task run...\n",
                        "[2021-08-30 17:24:31+0900] INFO - prefect.TaskRunner | Task 'add': Finished task run for task with final state: 'Success'\n",
                        "[2021-08-30 17:24:31+0900] INFO - prefect.FlowRunner | Flow run SUCCESS: all reference tasks succeeded\n",
                        "first result:  3\n",
                        "second result:  103\n"
                    ]
                }
            ],
            "metadata": {}
        },
        {
            "cell_type": "code",
            "execution_count": 5,
            "source": [
                "# [Imperative API]\n",
                "\n",
                "imperativeFlow = Flow(\"My imperative flow!\")\n",
                "second_add = add.copy()\n",
                "\n",
                "# add our tasks to the flow\n",
                "imperativeFlow.add_task(add)\n",
                "imperativeFlow.add_task(second_add)\n",
                "\n",
                "# create data bindings\n",
                "add.bind(x=1, y=2, flow=imperativeFlow)\n",
                "second_add.bind(x=add, y=100, flow=imperativeFlow)\n",
                "\n",
                "\n",
                "# Flowの実行\n",
                "state = imperativeFlow.run()\n",
                "assert state.is_successful()\n",
                "\n",
                "first_task_state = state.result[add]\n",
                "assert first_task_state.is_successful()\n",
                "print(\"first result: \", first_task_state.result)\n",
                "assert first_task_state.result == 3\n",
                "\n",
                "second_task_state = state.result[second_add]\n",
                "assert second_task_state.is_successful()\n",
                "print(\"second result: \", second_task_state.result)\n",
                "assert second_task_state.result == 103\n"
            ],
            "outputs": [
                {
                    "output_type": "stream",
                    "name": "stdout",
                    "text": [
                        "[2021-08-30 17:24:31+0900] INFO - prefect.FlowRunner | Beginning Flow run for 'My imperative flow!'\n",
                        "[2021-08-30 17:24:31+0900] INFO - prefect.TaskRunner | Task 'add': Starting task run...\n",
                        "[2021-08-30 17:24:31+0900] INFO - prefect.TaskRunner | Task 'add': Finished task run for task with final state: 'Success'\n",
                        "[2021-08-30 17:24:31+0900] INFO - prefect.TaskRunner | Task 'add': Starting task run...\n",
                        "[2021-08-30 17:24:31+0900] INFO - prefect.TaskRunner | Task 'add': Finished task run for task with final state: 'Success'\n",
                        "[2021-08-30 17:24:31+0900] INFO - prefect.FlowRunner | Flow run SUCCESS: all reference tasks succeeded\n",
                        "first result:  3\n",
                        "second result:  103\n"
                    ]
                }
            ],
            "metadata": {}
        },
        {
            "cell_type": "markdown",
            "source": [
                "## Parameterの定義\n",
                "Flowを実行する際に渡すパラメータを定義することができる"
            ],
            "metadata": {}
        },
        {
            "cell_type": "code",
            "execution_count": 6,
            "source": [
                "# Taskの定義\n",
                "@task\n",
                "def say_hello(person: str) -> None:\n",
                "    print(\"Hello, {}!\".format(person))\n",
                "\n",
                "# Flowの定義\n",
                "with Flow(\"Say Hello!\") as flow:\n",
                "    # nameという名前でParameterを作成\n",
                "    name = Parameter(\"name\")\n",
                "    say_hello(name)\n",
                "\n",
                "# Flowの実行\n",
                "flow.run(name=\"ryoasu\")"
            ],
            "outputs": [
                {
                    "output_type": "stream",
                    "name": "stdout",
                    "text": [
                        "[2021-08-30 17:24:32+0900] INFO - prefect.FlowRunner | Beginning Flow run for 'Say Hello!'\n",
                        "[2021-08-30 17:24:32+0900] INFO - prefect.TaskRunner | Task 'name': Starting task run...\n",
                        "[2021-08-30 17:24:32+0900] INFO - prefect.TaskRunner | Task 'name': Finished task run for task with final state: 'Success'\n",
                        "[2021-08-30 17:24:32+0900] INFO - prefect.TaskRunner | Task 'say_hello': Starting task run...\n",
                        "Hello, ryoasu!\n",
                        "[2021-08-30 17:24:32+0900] INFO - prefect.TaskRunner | Task 'say_hello': Finished task run for task with final state: 'Success'\n",
                        "[2021-08-30 17:24:32+0900] INFO - prefect.FlowRunner | Flow run SUCCESS: all reference tasks succeeded\n"
                    ]
                },
                {
                    "output_type": "execute_result",
                    "data": {
                        "text/plain": [
                            "<Success: \"All reference tasks succeeded.\">"
                        ]
                    },
                    "metadata": {},
                    "execution_count": 6
                }
            ],
            "metadata": {}
        },
        {
            "cell_type": "markdown",
            "source": [
                "## localでPrefect Serverを利用してFlowを登録・実行する\n",
                "serverをlocalで立ち上げて、Flowを登録してみる。\n",
                "また、agentを起動してFlowの実行を試す"
            ],
            "metadata": {}
        },
        {
            "cell_type": "markdown",
            "source": [
                "### local serverの起動してflowを登録"
            ],
            "metadata": {}
        },
        {
            "cell_type": "code",
            "execution_count": 7,
            "source": [
                "# backendとしてlocal serverを利用する (Prefect cloudを使う場合は`prefect backend cloud`)\n",
                "!prefect backend server\n",
                "# serverを起動 (Detached mode)\n",
                "!prefect server start -d"
            ],
            "outputs": [
                {
                    "output_type": "stream",
                    "name": "stdout",
                    "text": [
                        "\u001b[32mBackend switched to server\u001b[0m\n",
                        "\n",
                        "\n",
                        "\n",
                        "\n",
                        "\n",
                        "\n",
                        "\u001b[6BCreating network \"prefect-server\" with the default driver\n",
                        "\n",
                        "\n",
                        "\n",
                        "\n",
                        "\n",
                        "\n",
                        "\u001b[1B\n",
                        "                                            \u001b[34m\u001b[1mWELCOME TO\u001b[0m\n",
                        "  \u001b[1m\n",
                        "   _____  _____  ______ ______ ______ _____ _______    _____ ______ _______      ________ _____\n",
                        "  |  __ \\|  __ \\|  ____|  ____|  ____/ ____|__   __|  / ____|  ____|  __ \\ \\    / /  ____|  __ \\\n",
                        "  | |__) | |__) | |__  | |__  | |__ | |       | |    | (___ | |__  | |__) \\ \\  / /| |__  | |__) |\n",
                        "  |  ___/|  _  /|  __| |  __| |  __|| |       | |     \\___ \\|  __| |  _  / \\ \\/ / |  __| |  _  /\n",
                        "  | |    | | \\ \\| |____| |    | |___| |____   | |     ____) | |____| | \\ \\  \\  /  | |____| | \\ \\\n",
                        "  |_|    |_|  \\_\\______|_|    |______\\_____|  |_|    |_____/|______|_|  \\_\\  \\/   |______|_|  \\_\\\n",
                        "\n",
                        "    \u001b[0m\n",
                        "   Visit \u001b[37m\u001b[44m\u001b[1mhttp://localhost:8080\u001b[0m to get started, or check out the docs at \u001b[37m\u001b[44m\u001b[1mhttps://docs.prefect.io\u001b[0m\n",
                        "    \n"
                    ]
                }
            ],
            "metadata": {}
        },
        {
            "cell_type": "markdown",
            "source": [
                "http://localhost:8080 で起動しているサーバーのダッシュボードを確認できる\n",
                "![img](../assets/images/image_1_1.jpg)"
            ],
            "metadata": {}
        },
        {
            "cell_type": "code",
            "execution_count": 8,
            "source": [
                "# projectの作成 \n",
                "!prefect create project \"tutorial\""
            ],
            "outputs": [
                {
                    "output_type": "stream",
                    "name": "stdout",
                    "text": [
                        "\u001b[32mtutorial created\u001b[0m\n"
                    ]
                }
            ],
            "metadata": {}
        },
        {
            "cell_type": "code",
            "execution_count": 9,
            "source": [
                "# ↓ Prefect CLIを使ってFlowを登録する場合\n",
                "# !prefect register --project tutorial -p <path to a file or a directory containing theflow(s)>\n",
                "\n",
                "# Flowの登録\n",
                "print(flow.serialized_hash())\n",
                "flow.register(\n",
                "    project_name=\"tutorial\", \n",
                "    labels=[\"dev\"], \n",
                "    add_default_labels=False, \n",
                "    idempotency_key=flow.serialized_hash() # 前回登録したFlowと同じhashだった場合、新たなバージョンとして登録されない\n",
                ")"
            ],
            "outputs": [
                {
                    "output_type": "stream",
                    "name": "stdout",
                    "text": [
                        "b91c95c873917abcd57fb9ebb835376807c157d56da839f79d7e1bb50970b6b8\n",
                        "Flow URL: http://localhost:8080/default/flow/3f07ac05-4fe3-4845-9628-a425d2c7113f\n",
                        " └── ID: 308a0729-b7cb-4cd1-8497-513a3baba176\n",
                        " └── Project: tutorial\n",
                        " └── Labels: ['dev']\n"
                    ]
                },
                {
                    "output_type": "execute_result",
                    "data": {
                        "text/plain": [
                            "'308a0729-b7cb-4cd1-8497-513a3baba176'"
                        ]
                    },
                    "metadata": {},
                    "execution_count": 9
                }
            ],
            "metadata": {}
        },
        {
            "cell_type": "markdown",
            "source": [
                "UI上からもFlowが登録されていることがわかる\n",
                "| Flow一覧ページ | Flow詳細ページ |\n",
                "| :---: | :---: |\n",
                "| ![img](../assets/images/image_1_2.jpg) | ![img](../assets/images/image_1_3.jpg) |\n"
            ],
            "metadata": {}
        },
        {
            "cell_type": "markdown",
            "source": [
                "### agentの起動とFlowの実行\n",
                "Prefect CLIを使ってFlowを実行するAgentの作成する\n",
                "バックグラウンド実行ができないので、notebook外で以下を実行してagentを起動する\n",
                "```sh\n",
                "# devラベルがついているFlowはこのagentで実行して欲しいので同じlabelを付けている\n",
                "$ prefect agent local start -l dev\n",
                "```\n",
                "\n",
                "\n",
                "Python APIを使う場合は以下の通り\n",
                "```python\n",
                "from prefect.agent.local import LocalAgent\n",
                "LocalAgent(labels=[\"dev\"]).start()\n",
                "```"
            ],
            "metadata": {}
        },
        {
            "cell_type": "code",
            "execution_count": 10,
            "source": [
                "# CLIから登録したFlowを実行する (ref: https://docs.prefect.io/api/latest/cli/run.html)\n",
                "!prefect run  --project tutorial -n \"Say Hello!\" --param name=ryoasu --run-name \"say-hello2\" --watch"
            ],
            "outputs": [
                {
                    "output_type": "stream",
                    "name": "stdout",
                    "text": [
                        "Looking up flow metadata...\u001b[0m\u001b[32m Done\u001b[0m\n",
                        "Creating run for flow 'Say Hello!'...\u001b[0m\u001b[32m Done\u001b[0m\n",
                        "└── Name: say-hello2\n",
                        "└── UUID: acd9b7a1-aab5-45c6-8a63-f07c827ee2dc\n",
                        "└── Labels: ['dev']\n",
                        "└── Parameters: {'name': 'ryoasu'}\n",
                        "└── Context: {}\n",
                        "└── URL: http://localhost:8080/default/flow-run/acd9b7a1-aab5-45c6-8a63-f07c827ee2dc\u001b[0m\n",
                        "Watching flow run execution...\u001b[0m\n",
                        "\u001b[37m└── 08:17:31 | INFO    | Entered state <Scheduled>: Flow run scheduled.\u001b[0m\n",
                        "\u001b[37m└── 08:17:35 | INFO    | Entered state <Submitted>: Submitted for execution\u001b[0m\n",
                        "\u001b[37m└── 08:17:35 | INFO    | Submitted for execution: PID: 59970\u001b[0m\n",
                        "\u001b[37m└── 08:17:36 | INFO    | Beginning Flow run for 'Say Hello!'\u001b[0m\n",
                        "\u001b[37m└── 08:17:36 | INFO    | Entered state <Running>: Running flow.\u001b[0m\n",
                        "\u001b[37m└── 08:17:36 | INFO    | Task 'name': Starting task run...\u001b[0m\n",
                        "\u001b[37m└── 08:17:36 | INFO    | Task 'name': Finished task run for task with final state: 'Success'\u001b[0m\n",
                        "\u001b[37m└── 08:17:36 | INFO    | Task 'say_hello': Starting task run...\u001b[0m\n",
                        "\u001b[37m└── 08:17:36 | INFO    | Task 'say_hello': Finished task run for task with final state: 'Success'\u001b[0m\n",
                        "\u001b[37m└── 08:17:36 | INFO    | Flow run SUCCESS: all reference tasks succeeded\u001b[0m\n",
                        "\u001b[37m└── 08:17:36 | INFO    | Entered state <Success>: All reference tasks succeeded.\u001b[0m\n",
                        "\u001b[32mFlow run succeeded!\u001b[0m\n"
                    ]
                }
            ],
            "metadata": {}
        },
        {
            "cell_type": "markdown",
            "source": [
                "Flowが実行されたことがUI上からもわかる\n",
                "![img](../assets/images/image_1_4.jpg)"
            ],
            "metadata": {}
        }
    ],
    "metadata": {
        "orig_nbformat": 4,
        "language_info": {
            "name": "python",
            "version": "3.9.6",
            "mimetype": "text/x-python",
            "codemirror_mode": {
                "name": "ipython",
                "version": 3
            },
            "pygments_lexer": "ipython3",
            "nbconvert_exporter": "python",
            "file_extension": ".py"
        },
        "kernelspec": {
            "name": "python3",
            "display_name": "Python 3.9.6 64-bit ('3.9.6': pyenv)"
        },
        "interpreter": {
            "hash": "8797fe502ebb3636b3a762582d5620ed4d5b919d551dd15a16bfb4eb1e7ab54b"
        }
    },
    "nbformat": 4,
    "nbformat_minor": 2
}